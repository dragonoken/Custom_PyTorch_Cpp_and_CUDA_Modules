{
 "cells": [
  {
   "cell_type": "markdown",
   "metadata": {},
   "source": [
    "# Peephole LSTM Test & Performance Comparison (Speed & Memory)"
   ]
  },
  {
   "cell_type": "markdown",
   "metadata": {},
   "source": [
    "* [Imports](#Importing-necessary-modules)\n",
    "* [Load & Definition](#Loading-and-defining-modules)\n",
    "    * [Autograd Functions](#Autograd-Functions)\n",
    "    * [Module Classes](#Module-classes-(C++,-CUDA,-PyTorch))\n",
    "* [Models](#Defining-models)\n",
    "    * [Definition](#Definition)\n",
    "    * [Instantiation](#Instantiation)\n",
    "    * [Parameter Synchronization](#Parameter-Synchronization)\n",
    "* [Fake Dataset](#Creating-a-fake-dataset)\n",
    "* [Sanity Check](#Sanity-check:-output-comparison)\n",
    "    * [Forward Outputs](#Forward-Outputs)\n",
    "    * [Backward Gradients](#Backward-Gradients)\n",
    "* [Forward Performance](#Forward-time-comparison)\n",
    "* [+Backward Performance](#+Backward-time-comparison)"
   ]
  },
  {
   "cell_type": "markdown",
   "metadata": {},
   "source": [
    "---"
   ]
  },
  {
   "cell_type": "markdown",
   "metadata": {},
   "source": [
    "## Importing necessary modules\n",
    "[go to top](#Peephole-LSTM-Test-&-Performance-Comparison-(Speed-&-Memory))"
   ]
  },
  {
   "cell_type": "code",
   "execution_count": 5,
   "metadata": {},
   "outputs": [
    {
     "data": {
      "text/plain": [
       "'0.4.1'"
      ]
     },
     "execution_count": 5,
     "metadata": {},
     "output_type": "execute_result"
    }
   ],
   "source": [
    "import torch\n",
    "from torch import nn\n",
    "from torch.utils.cpp_extension import load\n",
    "from torch.nn import functional as F\n",
    "from torch.utils.data import TensorDataset, DataLoader\n",
    "\n",
    "import math\n",
    "from collections import OrderedDict\n",
    "from time import sleep\n",
    "\n",
    "torch.__version__"
   ]
  },
  {
   "cell_type": "markdown",
   "metadata": {},
   "source": [
    "---"
   ]
  },
  {
   "cell_type": "markdown",
   "metadata": {},
   "source": [
    "## Loading and defining modules\n",
    "[go to top](#Peephole-LSTM-Test-&-Performance-Comparison-(Speed-&-Memory))"
   ]
  },
  {
   "cell_type": "markdown",
   "metadata": {},
   "source": [
    "### Autograd Functions\n",
    "[go to top](#Peephole-LSTM-Test-&-Performance-Comparison-(Speed-&-Memory))"
   ]
  },
  {
   "cell_type": "code",
   "execution_count": 6,
   "metadata": {},
   "outputs": [],
   "source": [
    "_bn_peephole_lstm_layer_cpp = load('bn_peephole_lstm_layer', ['./bn_peephole_lstm_layer.cpp'])\n",
    "\n",
    "########################################################################################################################\n",
    "\n",
    "class BNPeepholeLSTMFunction(torch.autograd.Function):\n",
    "    @staticmethod\n",
    "    def forward(ctx, input, weight_ih, weight_hh, weight_ch, bias, gamma_ih, gamma_hh, gamma_ch, gamma_tanh_cell, beta_tanh_cell, running_mean_ih, running_mean_hh, running_mean_ch, running_mean_tanh_cell, running_var_ih, running_var_hh, running_var_ch, running_var_tanh_cell, old_h, old_cell, momentum, epsilon, dropout_p, training):\n",
    "        \n",
    "        outputs = _bn_peephole_lstm_layer_cpp.forward(input, weight_ih, weight_hh, weight_ch, bias,\n",
    "                                                    gamma_ih, gamma_hh, gamma_ch, gamma_tanh_cell, beta_tanh_cell,\n",
    "                                                    running_mean_ih, running_mean_hh, running_mean_ch, running_mean_tanh_cell,\n",
    "                                                    running_var_ih, running_var_hh, running_var_ch, running_var_tanh_cell,\n",
    "                                                    old_h, old_cell,\n",
    "                                                    momentum, epsilon, dropout_p, training)\n",
    "        \n",
    "        (out, new_h, new_cell,\n",
    "         running_mean_ih.data, running_mean_hh.data, running_mean_ch.data, running_mean_tanh_cell.data,\n",
    "         running_var_ih.data, running_var_hh.data, running_var_ch.data, running_var_tanh_cell.data) = outputs[:11]\n",
    "        \n",
    "        variables = outputs[11:] + [weight_ih, weight_hh, weight_ch,\n",
    "                                    gamma_ih, gamma_hh, gamma_ch, gamma_tanh_cell]\n",
    "        ctx.training = training # Boolean value stored this way since only tensors can be stored using save_for_backward\n",
    "        ctx.save_for_backward(*variables)\n",
    "\n",
    "        return out, new_h, new_cell\n",
    "\n",
    "    @staticmethod\n",
    "    def backward(ctx, grad_output, grad_h, grad_cell):\n",
    "        outputs = _bn_peephole_lstm_layer_cpp.backward(\n",
    "            grad_output.contiguous(), grad_h.contiguous(), grad_cell.contiguous(), *ctx.saved_tensors, ctx.training)\n",
    "        \n",
    "        (d_old_h, d_old_cell, d_input,\n",
    "         d_weight_ih, d_weight_hh, d_weight_ch, d_bias,\n",
    "         d_gamma_ih, d_gamma_hh, d_gamma_ch, d_gamma_tanh_cell, d_beta_tanh_cell) = outputs\n",
    "        \n",
    "        return d_input, d_weight_ih, d_weight_hh, d_weight_ch, d_bias, d_gamma_ih, d_gamma_hh, d_gamma_ch, d_gamma_tanh_cell, d_beta_tanh_cell, None, None, None, None, None, None, None, None, d_old_h, d_old_cell, None, None, None, None\n",
    "   "
   ]
  },
  {
   "cell_type": "markdown",
   "metadata": {},
   "source": [
    "### Module classes (C++, CUDA, PyTorch)\n",
    "[go to top](#Peephole-LSTM-Test-&-Performance-Comparison-(Speed-&-Memory))"
   ]
  },
  {
   "cell_type": "code",
   "execution_count": 7,
   "metadata": {},
   "outputs": [],
   "source": [
    "class BNPeepholeLSTMTorch(nn.Module):\n",
    "    def __init__(self, input_size, hidden_size, dropout=0., momentum=0.1, eps=1e-05):\n",
    "        if not 0 <= dropout <= 1:\n",
    "            raise ValueError(f\"Invalid dropout value : {dropout} dropout must be in range [0, 1].\")\n",
    "        if not 0 <= momentum <= 1:\n",
    "            raise ValueError(f\"Invalid momentum value : {momentum} momentum must be in range [0, 1].\")\n",
    "        super(BNPeepholeLSTMTorch, self).__init__()\n",
    "        \n",
    "        self.input_size = input_size\n",
    "        self.hidden_size = hidden_size\n",
    "        self.dropout = float(dropout)\n",
    "        self.momentum = float(momentum)\n",
    "        self.eps = eps\n",
    "        \n",
    "        self.register_parameter('weight_ih', nn.Parameter(torch.empty(4 * hidden_size, input_size)))\n",
    "        self.register_parameter('weight_hh', nn.Parameter(torch.empty(4 * hidden_size, hidden_size)))\n",
    "        self.register_parameter('weight_ch', nn.Parameter(torch.empty(3 * hidden_size, hidden_size)))\n",
    "        self.register_parameter('bias', nn.Parameter(torch.empty(4 * hidden_size)))\n",
    "        \n",
    "        self.register_parameter('gamma_ih', nn.Parameter(torch.empty(4 * hidden_size)))\n",
    "        self.register_parameter('gamma_hh', nn.Parameter(torch.empty(4 * hidden_size)))\n",
    "        self.register_parameter('gamma_ch', nn.Parameter(torch.empty(3 * hidden_size)))\n",
    "        self.register_parameter('gamma_tanh_cell', nn.Parameter(torch.empty(hidden_size)))\n",
    "        self.register_parameter('beta_tanh_cell', nn.Parameter(torch.empty(hidden_size)))\n",
    "        \n",
    "        self.register_buffer('running_mean_ih', torch.empty(4 * hidden_size))\n",
    "        self.register_buffer('running_mean_hh', torch.empty(4 * hidden_size))\n",
    "        self.register_buffer('running_mean_ch', torch.empty(3 * hidden_size))\n",
    "        self.register_buffer('running_mean_tanh_cell', torch.empty(hidden_size))\n",
    "        self.register_buffer('running_var_ih', torch.empty(4 * hidden_size))\n",
    "        self.register_buffer('running_var_hh', torch.empty(4 * hidden_size))\n",
    "        self.register_buffer('running_var_ch', torch.empty(3 * hidden_size))\n",
    "        self.register_buffer('running_var_tanh_cell', torch.empty(hidden_size))\n",
    "        \n",
    "        self.reset_parameters()\n",
    "        self.reset_running_stats()\n",
    "\n",
    "    def reset_parameters(self):\n",
    "        stdv = 1.0 / math.sqrt(self.input_size + 2 * self.hidden_size)\n",
    "        self.weight_ih.data.uniform_(-stdv, +stdv)\n",
    "        self.weight_hh.data.uniform_(-stdv, +stdv)\n",
    "        self.weight_ch.data.uniform_(-stdv, +stdv)\n",
    "        \n",
    "        self.bias.data.zero_()\n",
    "        self.bias.data[:self.hidden_size].fill_(1.)\n",
    "        \n",
    "        self.gamma_ih.data.uniform_()\n",
    "        self.gamma_hh.data.uniform_()\n",
    "        self.gamma_ch.data.uniform_()\n",
    "        self.gamma_tanh_cell.data.uniform_()\n",
    "        self.beta_tanh_cell.data.zero_()\n",
    "    \n",
    "    def reset_running_stats(self):\n",
    "        self.running_mean_ih.data.zero_()\n",
    "        self.running_mean_hh.data.zero_()\n",
    "        self.running_mean_ch.data.zero_()\n",
    "        self.running_mean_tanh_cell.data.zero_()\n",
    "        self.running_var_ih.data.fill_(1.)\n",
    "        self.running_var_hh.data.fill_(1.)\n",
    "        self.running_var_ch.data.fill_(1.)\n",
    "        self.running_var_tanh_cell.data.fill_(1.)\n",
    "    \n",
    "    def forward(self, input, states):\n",
    "        assert input.dim() == 3\n",
    "        outputs = input.new_empty((input.size(0), input.size(1), self.hidden_size))\n",
    "        \n",
    "        h = states[0].clone()\n",
    "        c = states[1].clone()\n",
    "        \n",
    "        weight_ih = self.weight_ih.t()\n",
    "        weight_hh = self.weight_hh.t()\n",
    "        weight_ch = self.weight_ch.t()\n",
    "        \n",
    "        ih = torch.matmul(input.transpose(0, 1), weight_ih)\n",
    "        \n",
    "        for i in range(input.size(1)):\n",
    "            h = F.dropout(h, p=self.dropout, training=self.training)\n",
    "            \n",
    "            gates = (F.batch_norm(ih[i], self.running_mean_ih, self.running_var_ih, weight=self.gamma_ih, bias=None, training=self.training, momentum=self.momentum, eps=self.eps)\n",
    "                     + F.batch_norm(torch.mm(h, weight_hh), self.running_mean_hh, self.running_var_hh, weight=self.gamma_hh, bias=None, training=self.training, momentum=self.momentum, eps=self.eps)\n",
    "                     + self.bias)\n",
    "            \n",
    "            gates = torch.cat((gates[:, :3 * self.hidden_size].add(F.batch_norm(torch.mm(c, weight_ch), self.running_mean_ch, self.running_var_ch, weight=self.gamma_ch, bias=None, training=self.training, momentum=self.momentum, eps=self.eps)).sigmoid(), gates[:, 3 * self.hidden_size:].tanh()), dim=1).chunk(chunks=4, dim=1)\n",
    "            \n",
    "            c = torch.addcmul(gates[1] * gates[3], c, gates[0])\n",
    "            h = gates[2] * F.batch_norm(c.tanh(), self.running_mean_tanh_cell, self.running_var_tanh_cell, weight=self.gamma_tanh_cell, bias=self.beta_tanh_cell, training=self.training, momentum=self.momentum, eps=self.eps)\n",
    "            \n",
    "            outputs[:, i] = h\n",
    "        \n",
    "        outputs = torch.nn.functional.dropout(outputs, p=self.dropout, training=self.training)\n",
    "    \n",
    "        return outputs, (h, c)\n",
    "    \n",
    "    def __repr__(self):\n",
    "        return f\"PeepholeNormLSTMTorch(input_size={self.input_size}, hidden_size={self.hidden_size}, dropout={self.dropout}, momentum={self.momentum}, eps={self.eps})\"\n",
    "\n",
    "########################################################################################################################\n",
    "    \n",
    "# class LNPeepholeLSTMTorch(nn.Module):\n",
    "#     def __init__(self, input_size, hidden_size, dropout=0., momentum=0.1, eps=1e-05):\n",
    "#         if not 0 <= dropout <= 1:\n",
    "#             raise ValueError(f\"Invalid dropout value : {dropout} dropout must be in range [0, 1].\")\n",
    "#         if not 0 <= momentum <= 1:\n",
    "#             raise ValueError(f\"Invalid momentum value : {momentum} momentum must be in range [0, 1].\")\n",
    "#         super(PeepholeLayerNormLSTMTorch, self).__init__()\n",
    "        \n",
    "#         self.input_size = input_size\n",
    "#         self.hidden_size = hidden_size\n",
    "#         self.dropout = float(dropout)\n",
    "#         self.momentum = float(momentum) #Not Used\n",
    "#         self.eps = eps\n",
    "        \n",
    "#         self.register_parameter('weight_ih', nn.Parameter(torch.empty(4 * hidden_size, input_size)))\n",
    "#         self.register_parameter('weight_hh', nn.Parameter(torch.empty(4 * hidden_size, hidden_size)))\n",
    "#         self.register_parameter('weight_ch', nn.Parameter(torch.empty(3 * hidden_size, hidden_size)))\n",
    "#         self.register_parameter('bias', nn.Parameter(torch.empty(4 * hidden_size)))\n",
    "        \n",
    "#         self.register_parameter('gamma_ih', nn.Parameter(torch.empty(4 * hidden_size)))\n",
    "#         self.register_parameter('gamma_hh', nn.Parameter(torch.empty(4 * hidden_size)))\n",
    "#         self.register_parameter('gamma_ch', nn.Parameter(torch.empty(3 * hidden_size)))\n",
    "#         self.register_parameter('gamma_tanh_cell', nn.Parameter(torch.empty(hidden_size)))\n",
    "#         self.register_parameter('beta_tanh_cell', nn.Parameter(torch.empty(hidden_size)))\n",
    "        \n",
    "#         self.reset_parameters()\n",
    "\n",
    "#     def reset_parameters(self):\n",
    "#         stdv = 1.0 / math.sqrt(self.input_size + 2 * self.hidden_size)\n",
    "#         self.weight_ih.data.uniform_(-stdv, +stdv)\n",
    "#         self.weight_hh.data.uniform_(-stdv, +stdv)\n",
    "#         self.weight_ch.data.uniform_(-stdv, +stdv)\n",
    "        \n",
    "#         self.bias.data.zero_()\n",
    "#         self.bias.data[:self.hidden_size].fill_(1.)\n",
    "        \n",
    "#         self.gamma_ih.data.uniform_()\n",
    "#         self.gamma_hh.data.uniform_()\n",
    "#         self.gamma_ch.data.uniform_()\n",
    "#         self.gamma_tanh_cell.data.uniform_()\n",
    "#         self.beta_tanh_cell.data.zero_()\n",
    "    \n",
    "#     def forward(self, input, states):\n",
    "#         assert input.dim() == 3\n",
    "#         outputs = input.new_empty((input.size(0), input.size(1), self.hidden_size))\n",
    "        \n",
    "#         h = states[0].clone()\n",
    "#         c = states[1].clone()\n",
    "        \n",
    "#         hidden_size_3 = 3 * self.hidden_size\n",
    "#         gate_size = hidden_size_3 + self.hidden_size\n",
    "        \n",
    "#         weight_ih = self.weight_ih.t()\n",
    "#         weight_hh = self.weight_hh.t()\n",
    "#         weight_ch = self.weight_ch.t()\n",
    "        \n",
    "#         ih = torch.matmul(input.transpose(0, 1), weight_ih)\n",
    "        \n",
    "#         for i in range(input.size(1)):\n",
    "#             h = F.dropout(h, p=self.dropout, training=self.training)\n",
    "            \n",
    "#             gates = (F.layer_norm(ih[i], [gate_size], weight=self.gamma_ih, bias=None, eps=self.eps)\n",
    "#                      + F.layer_norm(torch.mm(h, weight_hh), [gate_size], weight=self.gamma_hh, bias=None, eps=self.eps)\n",
    "#                      + self.bias)\n",
    "    \n",
    "#             gates = torch.cat((gates[:, :3 * self.hidden_size].add(F.layer_norm(torch.mm(c, weight_ch), [hidden_size_3], weight=self.gamma_ch, bias=None, eps=self.eps)).sigmoid(), gates[:, 3 * self.hidden_size:].tanh()), dim=1).chunk(chunks=4, dim=1)\n",
    "#             gates = torch.cat((gates[:, :3 * self.hidden_size].sigmoid(), gates[:, 3 * self.hidden_size:].tanh()), dim=1).chunk(chunks=4, dim=1)\n",
    "            \n",
    "#             c = torch.addcmul(gates[1] * gates[3], c, gates[0])\n",
    "#             h = gates[2] * F.layer_norm(c.tanh(), [self.hidden_size], weight=self.gamma_tanh_cell, bias=self.beta_tanh_cell, eps=self.eps)\n",
    "            \n",
    "#             outputs[:, i] = h\n",
    "        \n",
    "#         outputs = torch.nn.functional.dropout(outputs, p=self.dropout, training=self.training)\n",
    "    \n",
    "#         return outputs, (h, c)\n",
    "    \n",
    "#     def __repr__(self):\n",
    "#         return f\"PeepholeLayerNormLSTMTorch(input_size={self.input_size}, hidden_size={self.hidden_size}, dropout={self.dropout}, eps={self.eps})\"\n",
    "\n",
    "########################################################################################################################\n",
    "\n",
    "class BNPeepholeLSTMCPP(nn.Module):\n",
    "    def __init__(self, input_size, hidden_size, dropout=0., momentum=0.1, eps=1e-05):\n",
    "        if not 0 <= dropout <= 1:\n",
    "            raise ValueError(f\"Invalid dropout value : {dropout} dropout must be in range [0, 1].\")\n",
    "        if not 0 <= momentum <= 1:\n",
    "            raise ValueError(f\"Invalid momentum value : {momentum} momentum must be in range [0, 1].\")\n",
    "            \n",
    "        super(BNPeepholeLSTMCPP, self).__init__()\n",
    "        \n",
    "        self.input_size = input_size\n",
    "        self.hidden_size = hidden_size\n",
    "        self.dropout = float(dropout)\n",
    "        self.momentum = float(momentum)\n",
    "        self.eps = eps\n",
    "        \n",
    "        self.register_parameter('weight_ih', nn.Parameter(torch.empty(4 * hidden_size, input_size)))\n",
    "        self.register_parameter('weight_hh', nn.Parameter(torch.empty(4 * hidden_size, hidden_size)))\n",
    "        self.register_parameter('weight_ch', nn.Parameter(torch.empty(3 * hidden_size, hidden_size)))\n",
    "        self.register_parameter('bias', nn.Parameter(torch.empty(4 * hidden_size)))\n",
    "        \n",
    "        self.register_parameter('gamma_ih', nn.Parameter(torch.empty(4 * hidden_size)))\n",
    "        self.register_parameter('gamma_hh', nn.Parameter(torch.empty(4 * hidden_size)))\n",
    "        self.register_parameter('gamma_ch', nn.Parameter(torch.empty(3 * hidden_size)))\n",
    "        self.register_parameter('gamma_tanh_cell', nn.Parameter(torch.empty(hidden_size)))\n",
    "        self.register_parameter('beta_tanh_cell', nn.Parameter(torch.empty(hidden_size)))\n",
    "        \n",
    "        self.register_buffer('running_mean_ih', torch.empty(4 * hidden_size))\n",
    "        self.register_buffer('running_mean_hh', torch.empty(4 * hidden_size))\n",
    "        self.register_buffer('running_mean_ch', torch.empty(3 * hidden_size))\n",
    "        self.register_buffer('running_mean_tanh_cell', torch.empty(hidden_size))\n",
    "        self.register_buffer('running_var_ih', torch.empty(4 * hidden_size))\n",
    "        self.register_buffer('running_var_hh', torch.empty(4 * hidden_size))\n",
    "        self.register_buffer('running_var_ch', torch.empty(3 * hidden_size))\n",
    "        self.register_buffer('running_var_tanh_cell', torch.empty(hidden_size))\n",
    "        \n",
    "        self.reset_parameters()\n",
    "        self.reset_running_stats()\n",
    "\n",
    "    def reset_parameters(self):\n",
    "        stdv = 1.0 / math.sqrt(self.input_size + 2 * self.hidden_size)\n",
    "        self.weight_ih.data.uniform_(-stdv, +stdv)\n",
    "        self.weight_hh.data.uniform_(-stdv, +stdv)\n",
    "        self.weight_ch.data.uniform_(-stdv, +stdv)\n",
    "        \n",
    "        self.bias.data.zero_()\n",
    "        self.bias.data[:self.hidden_size].fill_(1.)\n",
    "        \n",
    "        self.gamma_ih.data.uniform_()\n",
    "        self.gamma_hh.data.uniform_()\n",
    "        self.gamma_ch.data.uniform_()\n",
    "        self.gamma_tanh_cell.data.uniform_()\n",
    "        self.beta_tanh_cell.data.zero_()\n",
    "    \n",
    "    def reset_running_stats(self):\n",
    "        self.running_mean_ih.data.zero_()\n",
    "        self.running_mean_hh.data.zero_()\n",
    "        self.running_mean_ch.data.zero_()\n",
    "        self.running_mean_tanh_cell.data.zero_()\n",
    "        self.running_var_ih.data.fill_(1.)\n",
    "        self.running_var_hh.data.fill_(1.)\n",
    "        self.running_var_ch.data.fill_(1.)\n",
    "        self.running_var_tanh_cell.data.fill_(1.)\n",
    "        \n",
    "    def forward(self, input, state):\n",
    "        input = input.transpose(0, 1).contiguous()\n",
    "        \n",
    "        output, new_h, new_cell = BNPeepholeLSTMFunction.apply(input, self.weight_ih, self.weight_hh, self.weight_ch, self.bias, self.gamma_ih, self.gamma_hh, self.gamma_ch, self.gamma_tanh_cell, self.beta_tanh_cell, self.running_mean_ih, self.running_mean_hh, self.running_mean_ch, self.running_mean_tanh_cell, self.running_var_ih, self.running_var_hh, self.running_var_ch, self.running_var_tanh_cell, state[0], state[1], self.momentum, self.eps, self.dropout, self.training)\n",
    "        \n",
    "        return output.transpose(0, 1).contiguous(), (new_h, new_cell)\n",
    "    \n",
    "    def __repr__(self):\n",
    "        return f\"NormalizedPeepholeLSTM(input_size={self.input_size}, hidden_size={self.hidden_size}, dropout={self.dropout}, momentum={self.momentum}, eps={self.eps})\""
   ]
  },
  {
   "cell_type": "markdown",
   "metadata": {},
   "source": [
    "---"
   ]
  },
  {
   "cell_type": "markdown",
   "metadata": {},
   "source": [
    "## Defining models\n",
    "[go to top](#Peephole-LSTM-Test-&-Performance-Comparison-(Speed-&-Memory))"
   ]
  },
  {
   "cell_type": "markdown",
   "metadata": {},
   "source": [
    "### Definition\n",
    "[go to top](#Peephole-LSTM-Test-&-Performance-Comparison-(Speed-&-Memory))"
   ]
  },
  {
   "cell_type": "code",
   "execution_count": 8,
   "metadata": {},
   "outputs": [],
   "source": [
    "class BNPeepholeTorch(nn.Module):\n",
    "    def __init__(self, input_size, hidden_size, output_size, dropout=0, momentum=0.1, eps=1e-05):\n",
    "        super().__init__()\n",
    "        self.lstm0 = BNPeepholeLSTMTorch(input_size, hidden_size, dropout, momentum, eps)\n",
    "        self.lstm1 = BNPeepholeLSTMTorch(hidden_size, hidden_size, dropout, momentum, eps)\n",
    "        self.lstm2 = BNPeepholeLSTMTorch(hidden_size, hidden_size, dropout, momentum, eps)\n",
    "        self.fc = nn.Linear(hidden_size, output_size)\n",
    "        \n",
    "        self.input_size = input_size\n",
    "        self.hidden_size = hidden_size\n",
    "        self.output_size = output_size\n",
    "        \n",
    "    def forward(self, x, states):\n",
    "        hc1, hc2, hc3 = ((states[0][i], states[1][i]) for i in range(states[0].size(0)))\n",
    "        x, hc1 = self.lstm0(x, hc1)\n",
    "        x, hc2 = self.lstm1(x, hc2)\n",
    "        x, hc3 = self.lstm2(x, hc3)\n",
    "        x = self.fc(x)\n",
    "        new_states = (torch.cat((hc1[0], hc2[0], hc3[0])), torch.cat((hc1[1], hc2[1], hc3[1])))\n",
    "        return x, new_states\n",
    "\n",
    "########################################################################################################################\n",
    "    \n",
    "class BNPeepholeCPP(nn.Module):\n",
    "    def __init__(self, input_size, hidden_size, output_size, dropout=0, momentum=0.1, eps=1e-05):\n",
    "        super().__init__()\n",
    "        self.lstm0 = BNPeepholeLSTMCPP(input_size, hidden_size, dropout, momentum, eps)\n",
    "        self.lstm1 = BNPeepholeLSTMCPP(hidden_size, hidden_size, dropout, momentum, eps)\n",
    "        self.lstm2 = BNPeepholeLSTMCPP(hidden_size, hidden_size, dropout, momentum, eps)\n",
    "        self.fc = nn.Linear(hidden_size, output_size)\n",
    "        \n",
    "        self.input_size = input_size\n",
    "        self.hidden_size = hidden_size\n",
    "        self.output_size = output_size\n",
    "        \n",
    "    def forward(self, x, states):\n",
    "        hc1, hc2, hc3 = ((states[0][i], states[1][i]) for i in range(states[0].size(0)))\n",
    "        x, hc1 = self.lstm0(x, hc1)\n",
    "        x, hc2 = self.lstm1(x, hc2)\n",
    "        x, hc3 = self.lstm2(x, hc3)\n",
    "        x = self.fc(x)\n",
    "        new_states = (torch.cat((hc1[0], hc2[0], hc3[0])), torch.cat((hc1[1], hc2[1], hc3[1])))\n",
    "        return x, new_states"
   ]
  },
  {
   "cell_type": "markdown",
   "metadata": {},
   "source": [
    "### Instantiation\n",
    "[go to top](#Peephole-LSTM-Test-&-Performance-Comparison-(Speed-&-Memory))"
   ]
  },
  {
   "cell_type": "code",
   "execution_count": 9,
   "metadata": {},
   "outputs": [],
   "source": [
    "device = ('cpu', 'cuda')[1]\n",
    "\n",
    "input_size = 5\n",
    "hidden_size = 20\n",
    "output_size = 10\n",
    "dropout = 0.\n",
    "momentum = 0.1\n",
    "eps = 1e-05\n",
    "\n",
    "model_torch = BNPeepholeTorch(input_size, hidden_size, output_size, dropout, momentum, eps)\n",
    "model_cpp = BNPeepholeCPP(input_size, hidden_size, output_size, dropout, momentum, eps)\n",
    "\n",
    "model_torch.to(device)\n",
    "model_cpp.to(device)\n",
    "\n",
    "models = (model_torch, model_cpp)"
   ]
  },
  {
   "cell_type": "markdown",
   "metadata": {},
   "source": [
    "### Parameter Synchronization\n",
    "[go to top](#Peephole-LSTM-Test-&-Performance-Comparison-(Speed-&-Memory))"
   ]
  },
  {
   "cell_type": "code",
   "execution_count": 10,
   "metadata": {},
   "outputs": [
    {
     "name": "stdout",
     "output_type": "stream",
     "text": [
      "Synchronized Parameters:\n",
      "\n",
      "\tlstm2.weight_ch\n",
      "\tlstm1.weight_ih\n",
      "\tlstm0.gamma_ch\n",
      "\tlstm0.bias\n",
      "\tfc.bias\n",
      "\tlstm0.gamma_ih\n",
      "\tlstm0.weight_ch\n",
      "\tlstm0.gamma_hh\n",
      "\tlstm2.gamma_tanh_cell\n",
      "\tlstm2.weight_ih\n",
      "\tlstm1.gamma_ih\n",
      "\tlstm1.beta_tanh_cell\n",
      "\tlstm0.beta_tanh_cell\n",
      "\tfc.weight\n",
      "\tlstm2.bias\n",
      "\tlstm2.gamma_ih\n",
      "\tlstm2.weight_hh\n",
      "\tlstm1.weight_ch\n",
      "\tlstm0.weight_ih\n",
      "\tlstm1.gamma_hh\n",
      "\tlstm1.gamma_ch\n",
      "\tlstm1.gamma_tanh_cell\n",
      "\tlstm2.beta_tanh_cell\n",
      "\tlstm0.gamma_tanh_cell\n",
      "\tlstm2.gamma_ch\n",
      "\tlstm1.weight_hh\n",
      "\tlstm2.gamma_hh\n",
      "\tlstm0.weight_hh\n",
      "\tlstm1.bias\n",
      "\n",
      "Exclusive Parameters (Not Synchronized):\n",
      "\n"
     ]
    }
   ],
   "source": [
    "named_parameter_dicts = [\n",
    "    dict(model_torch.named_parameters()),\n",
    "    dict(model_cpp.named_parameters())\n",
    "]\n",
    "\n",
    "print(\"Synchronized Parameters:\\n\")\n",
    "for common_param_name in set.intersection(*(set(npd.keys()) for npd in named_parameter_dicts)):\n",
    "    print(\"\\t{}\".format(common_param_name))\n",
    "    for i in range(1, len(named_parameter_dicts)):\n",
    "        if named_parameter_dicts[i][common_param_name].size() == named_parameter_dicts[0][common_param_name].size():\n",
    "            named_parameter_dicts[i][common_param_name].data = named_parameter_dicts[0][common_param_name].data\n",
    "        else:\n",
    "            raise RuntimeError(\"Size mismatch\\n0:{}\\n{i}:{}\".format(named_parameter_dicts[0][common_param_name].size(),\n",
    "                                                                    named_parameter_dicts[i][common_param_name].size()))\n",
    "print()\n",
    "print(\"Exclusive Parameters (Not Synchronized):\\n\")\n",
    "for exclusive_param_name in set.union(*(set(npd.keys()) for npd in named_parameter_dicts)) - set.intersection(*(set(npd.keys()) for npd in named_parameter_dicts)):\n",
    "    print(\"\\t{}\".format(exclusive_param_name))"
   ]
  },
  {
   "cell_type": "markdown",
   "metadata": {},
   "source": [
    "---"
   ]
  },
  {
   "cell_type": "markdown",
   "metadata": {},
   "source": [
    "## Creating a fake dataset\n",
    "[go to top](#Peephole-LSTM-Test-&-Performance-Comparison-(Speed-&-Memory))"
   ]
  },
  {
   "cell_type": "code",
   "execution_count": 11,
   "metadata": {},
   "outputs": [],
   "source": [
    "def create_fake_loader(dataset_size, sequence_length, batch_size, drop_last=True):\n",
    "    fake_inputs = torch.randn(dataset_size, sequence_length, input_size)\n",
    "    fake_targets = torch.randint(high=output_size, size=(dataset_size, sequence_length), dtype=torch.int64)\n",
    "\n",
    "    fake_dataset = TensorDataset(fake_inputs, fake_targets)\n",
    "\n",
    "    fake_loader = DataLoader(fake_dataset, batch_size=batch_size, drop_last=drop_last)\n",
    "    \n",
    "    return fake_loader"
   ]
  },
  {
   "cell_type": "code",
   "execution_count": 12,
   "metadata": {},
   "outputs": [
    {
     "name": "stdout",
     "output_type": "stream",
     "text": [
      "torch.Size([32, 20, 5]) torch.Size([32, 20])\n"
     ]
    }
   ],
   "source": [
    "dataset_size = 1000\n",
    "sequence_length = 20\n",
    "batch_size = 32\n",
    "\n",
    "fake_loader = create_fake_loader(dataset_size, sequence_length, batch_size)\n",
    "print(next(iter(fake_loader))[0].size(), next(iter(fake_loader))[1].size())"
   ]
  },
  {
   "cell_type": "markdown",
   "metadata": {},
   "source": [
    "---"
   ]
  },
  {
   "cell_type": "markdown",
   "metadata": {},
   "source": [
    "## Sanity check: output comparison\n",
    "[go to top](#Peephole-LSTM-Test-&-Performance-Comparison-(Speed-&-Memory))"
   ]
  },
  {
   "cell_type": "markdown",
   "metadata": {},
   "source": [
    "### Forward Outputs\n",
    "[go to top](#Peephole-LSTM-Test-&-Performance-Comparison-(Speed-&-Memory))"
   ]
  },
  {
   "cell_type": "code",
   "execution_count": 13,
   "metadata": {
    "scrolled": false
   },
   "outputs": [
    {
     "name": "stdout",
     "output_type": "stream",
     "text": [
      "[model_torch]\n",
      "\n",
      "{partial output}\n",
      "tensor([[[-0.4186,  0.1219,  0.1689,  0.4250, -0.2592,  0.1225,  0.1900],\n",
      "         [-0.4184,  0.0997,  0.1880,  0.4353, -0.2315,  0.0688,  0.1375]],\n",
      "\n",
      "        [[-0.1806, -0.0894, -0.0936,  0.3823, -0.0102,  0.0758,  0.0004],\n",
      "         [-0.1453, -0.1031, -0.0836,  0.3456, -0.0135,  0.1084,  0.0478]],\n",
      "\n",
      "        [[-0.1865, -0.2088,  0.1236,  0.0781,  0.2323, -0.1874, -0.2513],\n",
      "         [-0.1975, -0.2112,  0.1484,  0.1027,  0.2236, -0.2123, -0.2658]],\n",
      "\n",
      "        [[-0.4544,  0.1695, -0.4159,  0.3630, -0.0180,  0.0625, -0.0914],\n",
      "         [-0.4745,  0.1880, -0.4048,  0.3721, -0.0601,  0.1053, -0.0624]]],\n",
      "       device='cuda:0')\n",
      "\n",
      "{partial running stat}\n",
      "tensor([-0.0028, -0.0017,  0.0017, -0.0072, -0.0075, -0.0043, -0.0027, -0.0031,\n",
      "         0.0086, -0.0080, -0.0092,  0.0068,  0.0033,  0.0023,  0.0023, -0.0087],\n",
      "       device='cuda:0')\n",
      "tensor([0.1430, 0.1473, 0.1475, 0.1458, 0.1405, 0.1657, 0.1702, 0.1516, 0.1603,\n",
      "        0.1660, 0.1695, 0.1576, 0.1355, 0.1605, 0.1540, 0.1566],\n",
      "       device='cuda:0')\n",
      "\n",
      "\n",
      "[model_cpp]\n",
      "\n",
      "{partial output}\n",
      "tensor([[[-0.4186,  0.1219,  0.1689,  0.4250, -0.2592,  0.1225,  0.1900],\n",
      "         [-0.4184,  0.0997,  0.1880,  0.4353, -0.2315,  0.0688,  0.1375]],\n",
      "\n",
      "        [[-0.1806, -0.0894, -0.0936,  0.3823, -0.0102,  0.0758,  0.0004],\n",
      "         [-0.1453, -0.1031, -0.0836,  0.3456, -0.0135,  0.1084,  0.0478]],\n",
      "\n",
      "        [[-0.1865, -0.2088,  0.1236,  0.0781,  0.2323, -0.1874, -0.2513],\n",
      "         [-0.1975, -0.2112,  0.1484,  0.1027,  0.2236, -0.2123, -0.2658]],\n",
      "\n",
      "        [[-0.4544,  0.1695, -0.4159,  0.3630, -0.0180,  0.0625, -0.0914],\n",
      "         [-0.4745,  0.1880, -0.4048,  0.3721, -0.0601,  0.1053, -0.0624]]],\n",
      "       device='cuda:0')\n",
      "\n",
      "{partial running stat}\n",
      "tensor([-0.0028, -0.0017,  0.0017, -0.0072, -0.0075, -0.0043, -0.0027, -0.0031,\n",
      "         0.0086, -0.0080, -0.0092,  0.0068,  0.0033,  0.0023,  0.0023, -0.0087],\n",
      "       device='cuda:0')\n",
      "tensor([0.1430, 0.1473, 0.1475, 0.1458, 0.1405, 0.1657, 0.1702, 0.1516, 0.1603,\n",
      "        0.1660, 0.1695, 0.1576, 0.1355, 0.1605, 0.1540, 0.1566],\n",
      "       device='cuda:0')\n"
     ]
    }
   ],
   "source": [
    "hidden = (torch.zeros(3, batch_size, hidden_size, device=device), torch.zeros(3, batch_size, hidden_size, device=device))\n",
    "\n",
    "inputs = next(iter(fake_loader))[0].to(device)\n",
    "\n",
    "for model in models:\n",
    "    model.train()\n",
    "#     model.eval()\n",
    "\n",
    "with torch.no_grad():\n",
    "    print(\"[model_torch]\")\n",
    "    print(\"\\n{partial output}\")\n",
    "    print(model_torch(inputs, hidden)[0][:4, -2:, :7])\n",
    "    print(\"\\n{partial running stat}\")\n",
    "    print(model_torch.lstm0.running_mean_ih[:16])\n",
    "    print(model_torch.lstm0.running_var_ih[:16])\n",
    "    print(\"\\n\")\n",
    "    print(\"[model_cpp]\")\n",
    "    print(\"\\n{partial output}\")\n",
    "    print(model_cpp(inputs, hidden)[0][:4, -2:, :7])\n",
    "    print(\"\\n{partial running stat}\")\n",
    "    print(model_cpp.lstm0.running_mean_ih[:16])\n",
    "    print(model_cpp.lstm0.running_var_ih[:16])"
   ]
  },
  {
   "cell_type": "markdown",
   "metadata": {},
   "source": [
    "### Backward Gradients\n",
    "[go to top](#Peephole-LSTM-Test-&-Performance-Comparison-(Speed-&-Memory))"
   ]
  },
  {
   "cell_type": "code",
   "execution_count": 15,
   "metadata": {
    "scrolled": false
   },
   "outputs": [
    {
     "name": "stdout",
     "output_type": "stream",
     "text": [
      "model_torch\n",
      "tensor([[ 4.3145e-07,  8.7233e-07, -9.5854e-07,  1.2553e-06, -7.9569e-08,\n",
      "         -1.2469e-06,  3.8178e-07],\n",
      "        [ 2.1202e-06, -4.4514e-07, -2.2069e-05,  4.2641e-05, -1.2819e-06,\n",
      "         -1.5372e-06,  1.7842e-05],\n",
      "        [ 9.7796e-08, -2.2805e-07, -6.9273e-07,  1.7257e-06, -3.7213e-08,\n",
      "          9.2676e-08,  5.5854e-07],\n",
      "        [ 6.5841e-08,  1.0308e-07, -1.3049e-06,  1.0900e-06, -5.3428e-08,\n",
      "          1.7077e-07,  8.2855e-07]], device='cuda:0')\n",
      "tensor([-8.8332e-06, -1.3035e-04, -4.3655e-05, -1.2249e-05,  4.2416e-04,\n",
      "        -5.5785e-04,  3.2699e-05, -1.7135e-04, -1.3789e-05,  2.1965e-04,\n",
      "         1.3887e-06,  5.9513e-04, -3.4441e-06, -1.5183e-04,  1.0374e-04,\n",
      "        -2.6997e-05, -1.7569e-04,  4.8382e-05,  1.6407e-05, -2.1368e-05,\n",
      "        -3.4967e-05, -6.4555e-05, -4.1796e-05, -1.2116e-05,  3.4734e-04],\n",
      "       device='cuda:0')\n",
      "\n",
      "\n",
      "model_cpp\n",
      "tensor([[ 4.3145e-07,  8.7233e-07, -9.5854e-07,  1.2553e-06, -7.9569e-08,\n",
      "         -1.2469e-06,  3.8178e-07],\n",
      "        [ 2.1202e-06, -4.4514e-07, -2.2069e-05,  4.2641e-05, -1.2819e-06,\n",
      "         -1.5372e-06,  1.7842e-05],\n",
      "        [ 9.7796e-08, -2.2805e-07, -6.9273e-07,  1.7257e-06, -3.7213e-08,\n",
      "          9.2676e-08,  5.5854e-07],\n",
      "        [ 6.5842e-08,  1.0308e-07, -1.3049e-06,  1.0900e-06, -5.3428e-08,\n",
      "          1.7077e-07,  8.2855e-07]], device='cuda:0')\n",
      "tensor([-8.8332e-06, -1.3035e-04, -4.3655e-05, -1.2249e-05,  4.2416e-04,\n",
      "        -5.5785e-04,  3.2699e-05, -1.7135e-04, -1.3789e-05,  2.1965e-04,\n",
      "         1.3887e-06,  5.9513e-04, -3.4441e-06, -1.5183e-04,  1.0374e-04,\n",
      "        -2.6997e-05, -1.7569e-04,  4.8382e-05,  1.6407e-05, -2.1368e-05,\n",
      "        -3.4967e-05, -6.4555e-05, -4.1796e-05, -1.2116e-05,  3.4734e-04],\n",
      "       device='cuda:0')\n",
      "\n",
      "\n",
      "tensor(4.1002e-08, device='cuda:0')\n"
     ]
    }
   ],
   "source": [
    "criterion = nn.CrossEntropyLoss()\n",
    "\n",
    "hidden = (torch.zeros(3, batch_size, hidden_size, device=device), torch.zeros(3, batch_size, hidden_size, device=device))\n",
    "\n",
    "inputs, targets = next(iter(fake_loader))\n",
    "inputs = inputs.to(device)\n",
    "targets = targets.to(device)\n",
    "\n",
    "for model in models:\n",
    "#     model.train()\n",
    "    model.eval()\n",
    "    model.zero_grad()\n",
    "    criterion(model(inputs, hidden)[0].flatten(0, 1), targets.flatten(0, 1)).backward()\n",
    "\n",
    "print(\"model_torch\")\n",
    "print(model_torch.lstm2.weight_ih.grad[:4, :7])\n",
    "print(model_torch.lstm2.bias.grad[:25])\n",
    "print(\"\\n\")\n",
    "print(\"model_cpp\")\n",
    "print(model_cpp.lstm2.weight_ih.grad[:4, :7])\n",
    "print(model_torch.lstm2.bias.grad[:25])\n",
    "print(\"\\n\")\n",
    "print(model_torch.lstm2.weight_ih.grad.sub(model_cpp.lstm2.weight_ih.grad).abs().sum())"
   ]
  },
  {
   "cell_type": "markdown",
   "metadata": {},
   "source": [
    "---"
   ]
  },
  {
   "cell_type": "markdown",
   "metadata": {},
   "source": [
    "## Forward time comparison\n",
    "[go to top](#Peephole-LSTM-Test-&-Performance-Comparison-(Speed-&-Memory))"
   ]
  },
  {
   "cell_type": "code",
   "execution_count": 20,
   "metadata": {},
   "outputs": [],
   "source": [
    "dataset_size = 1000\n",
    "sequence_length = 20\n",
    "batch_size = 32\n",
    "\n",
    "fake_loader = create_fake_loader(dataset_size, sequence_length, batch_size, drop_last=True)\n",
    "\n",
    "hidden = (torch.zeros(3, batch_size, hidden_size, device=device), torch.zeros(3, batch_size, hidden_size, device=device))"
   ]
  },
  {
   "cell_type": "code",
   "execution_count": 21,
   "metadata": {},
   "outputs": [
    {
     "name": "stdout",
     "output_type": "stream",
     "text": [
      "3.02 s ± 107 ms per loop (mean ± std. dev. of 10 runs, 1 loop each)\n"
     ]
    }
   ],
   "source": [
    "%%timeit -n 1 -r 10\n",
    "with torch.no_grad():\n",
    "    for inputs, _ in fake_loader:\n",
    "        inputs = inputs.to(device)\n",
    "        model_torch(inputs, hidden)"
   ]
  },
  {
   "cell_type": "code",
   "execution_count": 22,
   "metadata": {},
   "outputs": [
    {
     "name": "stdout",
     "output_type": "stream",
     "text": [
      "4.85 s ± 107 ms per loop (mean ± std. dev. of 10 runs, 1 loop each)\n"
     ]
    }
   ],
   "source": [
    "%%timeit -n 1 -r 10\n",
    "with torch.no_grad():\n",
    "    for inputs, _ in fake_loader:\n",
    "        inputs = inputs.to(device)\n",
    "        model_cpp(inputs, hidden)"
   ]
  },
  {
   "cell_type": "markdown",
   "metadata": {},
   "source": [
    "---"
   ]
  },
  {
   "cell_type": "markdown",
   "metadata": {},
   "source": [
    "## +Backward time comparison\n",
    "[go to top](#Peephole-LSTM-Test-&-Performance-Comparison-(Speed-&-Memory))"
   ]
  },
  {
   "cell_type": "code",
   "execution_count": 23,
   "metadata": {},
   "outputs": [],
   "source": [
    "criterion = nn.CrossEntropyLoss()"
   ]
  },
  {
   "cell_type": "code",
   "execution_count": 24,
   "metadata": {},
   "outputs": [
    {
     "name": "stdout",
     "output_type": "stream",
     "text": [
      "9.31 s ± 103 ms per loop (mean ± std. dev. of 10 runs, 1 loop each)\n"
     ]
    }
   ],
   "source": [
    "%%timeit -r 10\n",
    "for inputs, targets in fake_loader:\n",
    "    inputs = inputs.to(device)\n",
    "    targets = targets.to(device)\n",
    "    model_torch.zero_grad()\n",
    "    criterion(model_torch(inputs, hidden)[0].flatten(0, 1), targets.flatten(0, 1)).backward()"
   ]
  },
  {
   "cell_type": "code",
   "execution_count": 25,
   "metadata": {},
   "outputs": [
    {
     "name": "stdout",
     "output_type": "stream",
     "text": [
      "8.46 s ± 98.2 ms per loop (mean ± std. dev. of 10 runs, 1 loop each)\n"
     ]
    }
   ],
   "source": [
    "%%timeit -r 10\n",
    "for inputs, targets in fake_loader:\n",
    "    inputs = inputs.to(device)\n",
    "    targets = targets.to(device)\n",
    "    model_cpp.zero_grad()\n",
    "    criterion(model_cpp(inputs, hidden)[0].flatten(0, 1), targets.flatten(0, 1)).backward()"
   ]
  },
  {
   "cell_type": "markdown",
   "metadata": {},
   "source": [
    "---"
   ]
  }
 ],
 "metadata": {
  "kernelspec": {
   "display_name": "Python 3",
   "language": "python",
   "name": "python3"
  },
  "language_info": {
   "codemirror_mode": {
    "name": "ipython",
    "version": 3
   },
   "file_extension": ".py",
   "mimetype": "text/x-python",
   "name": "python",
   "nbconvert_exporter": "python",
   "pygments_lexer": "ipython3",
   "version": "3.6.7"
  }
 },
 "nbformat": 4,
 "nbformat_minor": 2
}
