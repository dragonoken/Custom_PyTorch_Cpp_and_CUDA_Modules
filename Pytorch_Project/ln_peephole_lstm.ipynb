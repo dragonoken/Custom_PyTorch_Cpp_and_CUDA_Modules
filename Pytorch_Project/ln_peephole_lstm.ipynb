{
 "cells": [
  {
   "cell_type": "markdown",
   "metadata": {},
   "source": [
    "# Peephole LSTM Test & Performance Comparison (Speed & Memory)"
   ]
  },
  {
   "cell_type": "markdown",
   "metadata": {},
   "source": [
    "* [Imports](#Importing-necessary-modules)\n",
    "* [Load & Definition](#Loading-and-defining-modules)\n",
    "    * [Autograd Functions](#Autograd-Functions)\n",
    "    * [Module Classes](#Module-classes-(C++,-CUDA,-PyTorch))\n",
    "* [Models](#Defining-models)\n",
    "    * [Definition](#Definition)\n",
    "    * [Instantiation](#Instantiation)\n",
    "    * [Parameter Synchronization](#Parameter-Synchronization)\n",
    "* [Fake Dataset](#Creating-a-fake-dataset)\n",
    "* [Sanity Check](#Sanity-check:-output-comparison)\n",
    "    * [Forward Outputs](#Forward-Outputs)\n",
    "    * [Backward Gradients](#Backward-Gradients)\n",
    "* [Forward Performance](#Forward-time-comparison)\n",
    "* [+Backward Performance](#+Backward-time-comparison)"
   ]
  },
  {
   "cell_type": "markdown",
   "metadata": {},
   "source": [
    "---"
   ]
  },
  {
   "cell_type": "markdown",
   "metadata": {},
   "source": [
    "## Importing necessary modules\n",
    "[go to top](#Peephole-LSTM-Test-&-Performance-Comparison-(Speed-&-Memory))"
   ]
  },
  {
   "cell_type": "code",
   "execution_count": 1,
   "metadata": {},
   "outputs": [
    {
     "data": {
      "text/plain": [
       "'0.4.1'"
      ]
     },
     "execution_count": 1,
     "metadata": {},
     "output_type": "execute_result"
    }
   ],
   "source": [
    "import torch\n",
    "from torch import nn\n",
    "from torch.utils.cpp_extension import load\n",
    "from torch.nn import functional as F\n",
    "from torch.utils.data import TensorDataset, DataLoader\n",
    "\n",
    "import math\n",
    "from collections import OrderedDict\n",
    "from time import sleep\n",
    "\n",
    "torch.__version__"
   ]
  },
  {
   "cell_type": "markdown",
   "metadata": {},
   "source": [
    "---"
   ]
  },
  {
   "cell_type": "markdown",
   "metadata": {},
   "source": [
    "## Loading and defining modules\n",
    "[go to top](#Peephole-LSTM-Test-&-Performance-Comparison-(Speed-&-Memory))"
   ]
  },
  {
   "cell_type": "markdown",
   "metadata": {},
   "source": [
    "### Autograd Functions\n",
    "[go to top](#Peephole-LSTM-Test-&-Performance-Comparison-(Speed-&-Memory))"
   ]
  },
  {
   "cell_type": "code",
   "execution_count": 2,
   "metadata": {},
   "outputs": [
    {
     "name": "stderr",
     "output_type": "stream",
     "text": [
      "c:\\users\\0107w\\anaconda3\\envs\\pytorch\\lib\\site-packages\\torch\\utils\\cpp_extension.py:92: UserWarning: Error checking compiler version: Command '['c++']' returned non-zero exit status 1.\n",
      "  warnings.warn('Error checking compiler version: {}'.format(error))\n",
      "c:\\users\\0107w\\anaconda3\\envs\\pytorch\\lib\\site-packages\\torch\\utils\\cpp_extension.py:118: UserWarning: \n",
      "\n",
      "                               !! WARNING !!\n",
      "\n",
      "!!!!!!!!!!!!!!!!!!!!!!!!!!!!!!!!!!!!!!!!!!!!!!!!!!!!!!!!!!!!!!!!!!!!!!!!!!!!!!!\n",
      "Your compiler (c++) may be ABI-incompatible with PyTorch!\n",
      "Please use a compiler that is ABI-compatible with GCC 4.9 and above.\n",
      "See https://gcc.gnu.org/onlinedocs/libstdc++/manual/abi.html.\n",
      "\n",
      "See https://gist.github.com/goldsborough/d466f43e8ffc948ff92de7486c5216d6\n",
      "for instructions on how to install GCC 4.9 or higher.\n",
      "!!!!!!!!!!!!!!!!!!!!!!!!!!!!!!!!!!!!!!!!!!!!!!!!!!!!!!!!!!!!!!!!!!!!!!!!!!!!!!!\n",
      "\n",
      "                              !! WARNING !!\n",
      "\n",
      "  warnings.warn(ABI_INCOMPATIBILITY_WARNING.format(compiler))\n"
     ]
    }
   ],
   "source": [
    "_bn_peephole_lstm_layer_cpp = load('ln_peephole_lstm_layer', ['./ln_peephole_lstm_layer.cpp'])\n",
    "\n",
    "########################################################################################################################\n",
    "\n",
    "class LNPeepholeLSTMFunction(torch.autograd.Function):\n",
    "    @staticmethod\n",
    "    def forward(ctx, input, weight_ih, weight_hh, weight_ch, bias, gamma_ih, gamma_hh, gamma_ch, gamma_tanh_cell, beta_tanh_cell, old_h, old_cell, epsilon, dropout_p, training):\n",
    "        \n",
    "        outputs = _bn_peephole_lstm_layer_cpp.forward(input, weight_ih, weight_hh, weight_ch, bias,\n",
    "                                                    gamma_ih, gamma_hh, gamma_ch, gamma_tanh_cell, beta_tanh_cell,\n",
    "                                                    old_h, old_cell,\n",
    "                                                    epsilon, dropout_p, training)\n",
    "        \n",
    "        out, new_h, new_cell = outputs[:3]\n",
    "        \n",
    "        variables = outputs[3:] + [weight_ih, weight_hh, weight_ch,\n",
    "                                    gamma_ih, gamma_hh, gamma_ch, gamma_tanh_cell]\n",
    "        ctx.training = training # Boolean value stored this way since only tensors can be stored using save_for_backward\n",
    "        ctx.save_for_backward(*variables)\n",
    "\n",
    "        return out, new_h, new_cell\n",
    "\n",
    "    @staticmethod\n",
    "    def backward(ctx, grad_output, grad_h, grad_cell):\n",
    "        outputs = _bn_peephole_lstm_layer_cpp.backward(\n",
    "            grad_output.contiguous(), grad_h.contiguous(), grad_cell.contiguous(), *ctx.saved_tensors, ctx.training)\n",
    "        \n",
    "        (d_old_h, d_old_cell, d_input,\n",
    "         d_weight_ih, d_weight_hh, d_weight_ch, d_bias,\n",
    "         d_gamma_ih, d_gamma_hh, d_gamma_ch, d_gamma_tanh_cell, d_beta_tanh_cell) = outputs\n",
    "        \n",
    "        return (d_input, d_weight_ih, d_weight_hh, d_weight_ch, d_bias,\n",
    "                d_gamma_ih, d_gamma_hh, d_gamma_ch, d_gamma_tanh_cell, d_beta_tanh_cell,\n",
    "                d_old_h, d_old_cell,\n",
    "                None, None, None)"
   ]
  },
  {
   "cell_type": "markdown",
   "metadata": {},
   "source": [
    "### Module classes (C++, CUDA, PyTorch)\n",
    "[go to top](#Peephole-LSTM-Test-&-Performance-Comparison-(Speed-&-Memory))"
   ]
  },
  {
   "cell_type": "code",
   "execution_count": 3,
   "metadata": {},
   "outputs": [],
   "source": [
    "class LNPeepholeLSTMTorch(nn.Module):\n",
    "    def __init__(self, input_size, hidden_size, dropout=0., eps=1e-05):\n",
    "        if not 0 <= dropout <= 1:\n",
    "            raise ValueError(f\"Invalid dropout value : {dropout} dropout must be in range [0, 1].\")\n",
    "        super(LNPeepholeLSTMTorch, self).__init__()\n",
    "        \n",
    "        self.input_size = input_size\n",
    "        self.hidden_size = hidden_size\n",
    "        self.dropout = float(dropout)\n",
    "        self.eps = eps\n",
    "        \n",
    "        self.register_parameter('weight_ih', nn.Parameter(torch.empty(4 * hidden_size, input_size)))\n",
    "        self.register_parameter('weight_hh', nn.Parameter(torch.empty(4 * hidden_size, hidden_size)))\n",
    "        self.register_parameter('weight_ch', nn.Parameter(torch.empty(3 * hidden_size, hidden_size)))\n",
    "        self.register_parameter('bias', nn.Parameter(torch.empty(4 * hidden_size)))\n",
    "        \n",
    "        self.register_parameter('gamma_ih', nn.Parameter(torch.empty(4 * hidden_size)))\n",
    "        self.register_parameter('gamma_hh', nn.Parameter(torch.empty(4 * hidden_size)))\n",
    "        self.register_parameter('gamma_ch', nn.Parameter(torch.empty(3 * hidden_size)))\n",
    "        self.register_parameter('gamma_tanh_cell', nn.Parameter(torch.empty(hidden_size)))\n",
    "        self.register_parameter('beta_tanh_cell', nn.Parameter(torch.empty(hidden_size)))\n",
    "        \n",
    "        self.reset_parameters()\n",
    "\n",
    "    def reset_parameters(self):\n",
    "        stdv = 1.0 / math.sqrt(self.input_size + 2 * self.hidden_size)\n",
    "        self.weight_ih.data.uniform_(-stdv, +stdv)\n",
    "        self.weight_hh.data.uniform_(-stdv, +stdv)\n",
    "        self.weight_ch.data.uniform_(-stdv, +stdv)\n",
    "        \n",
    "        self.bias.data.zero_()\n",
    "        self.bias.data[:self.hidden_size].fill_(1.)\n",
    "        \n",
    "        self.gamma_ih.data.uniform_()\n",
    "        self.gamma_hh.data.uniform_()\n",
    "        self.gamma_ch.data.uniform_()\n",
    "        self.gamma_tanh_cell.data.uniform_()\n",
    "        self.beta_tanh_cell.data.zero_()\n",
    "    \n",
    "    def forward(self, input, states):\n",
    "        assert input.dim() == 3\n",
    "        outputs = input.new_empty((input.size(0), input.size(1), self.hidden_size))\n",
    "        \n",
    "        h = states[0].clone()\n",
    "        c = states[1].clone()\n",
    "        \n",
    "        weight_ih = self.weight_ih.t()\n",
    "        weight_hh = self.weight_hh.t()\n",
    "        weight_ch = self.weight_ch.t()\n",
    "        \n",
    "        ih = torch.matmul(input.transpose(0, 1), weight_ih)\n",
    "        \n",
    "        for i in range(input.size(1)):\n",
    "            h = F.dropout(h, p=self.dropout, training=self.training)\n",
    "            \n",
    "            gates = (F.layer_norm(ih[i], (4 * self.hidden_size,), weight=self.gamma_ih, bias=None, eps=self.eps)\n",
    "                     + F.layer_norm(torch.mm(h, weight_hh), (4 * self.hidden_size,), weight=self.gamma_hh, bias=None, eps=self.eps)\n",
    "                     + self.bias)\n",
    "            \n",
    "            gates = torch.cat((gates[:, :3 * self.hidden_size].add(F.layer_norm(torch.mm(c, weight_ch), (3 * self.hidden_size,), weight=self.gamma_ch, bias=None, eps=self.eps)).sigmoid(), gates[:, 3 * self.hidden_size:].tanh()), dim=1).chunk(chunks=4, dim=1)\n",
    "            \n",
    "            c = torch.addcmul(gates[1] * gates[3], c, gates[0])\n",
    "            h = gates[2] * F.layer_norm(c.tanh(), (self.hidden_size,), weight=self.gamma_tanh_cell, bias=self.beta_tanh_cell, eps=self.eps)\n",
    "            \n",
    "            outputs[:, i] = h\n",
    "        \n",
    "        outputs = torch.nn.functional.dropout(outputs, p=self.dropout, training=self.training)\n",
    "    \n",
    "        return outputs, (h, c)\n",
    "    \n",
    "    def __repr__(self):\n",
    "        return f\"LNPeepholeLSTMTorch(input_size={self.input_size}, hidden_size={self.hidden_size}, dropout={self.dropout}, momentum={self.momentum}, eps={self.eps})\"\n",
    "\n",
    "########################################################################################################################\n",
    "\n",
    "class LNPeepholeLSTMCPP(nn.Module):\n",
    "    def __init__(self, input_size, hidden_size, dropout=0., eps=1e-05):\n",
    "        if not 0 <= dropout <= 1:\n",
    "            raise ValueError(f\"Invalid dropout value : {dropout} dropout must be in range [0, 1].\")\n",
    "            \n",
    "        super(LNPeepholeLSTMCPP, self).__init__()\n",
    "        \n",
    "        self.input_size = input_size\n",
    "        self.hidden_size = hidden_size\n",
    "        self.dropout = float(dropout)\n",
    "        self.eps = eps\n",
    "        \n",
    "        self.register_parameter('weight_ih', nn.Parameter(torch.empty(4 * hidden_size, input_size)))\n",
    "        self.register_parameter('weight_hh', nn.Parameter(torch.empty(4 * hidden_size, hidden_size)))\n",
    "        self.register_parameter('weight_ch', nn.Parameter(torch.empty(3 * hidden_size, hidden_size)))\n",
    "        self.register_parameter('bias', nn.Parameter(torch.empty(4 * hidden_size)))\n",
    "        \n",
    "        self.register_parameter('gamma_ih', nn.Parameter(torch.empty(4 * hidden_size)))\n",
    "        self.register_parameter('gamma_hh', nn.Parameter(torch.empty(4 * hidden_size)))\n",
    "        self.register_parameter('gamma_ch', nn.Parameter(torch.empty(3 * hidden_size)))\n",
    "        self.register_parameter('gamma_tanh_cell', nn.Parameter(torch.empty(hidden_size)))\n",
    "        self.register_parameter('beta_tanh_cell', nn.Parameter(torch.empty(hidden_size)))\n",
    "        \n",
    "        self.reset_parameters()\n",
    "\n",
    "    def reset_parameters(self):\n",
    "        stdv = 1.0 / math.sqrt(self.input_size + 2 * self.hidden_size)\n",
    "        self.weight_ih.data.uniform_(-stdv, +stdv)\n",
    "        self.weight_hh.data.uniform_(-stdv, +stdv)\n",
    "        self.weight_ch.data.uniform_(-stdv, +stdv)\n",
    "        \n",
    "        self.bias.data.zero_()\n",
    "        self.bias.data[:self.hidden_size].fill_(1.)\n",
    "        \n",
    "        self.gamma_ih.data.uniform_()\n",
    "        self.gamma_hh.data.uniform_()\n",
    "        self.gamma_ch.data.uniform_()\n",
    "        self.gamma_tanh_cell.data.uniform_()\n",
    "        self.beta_tanh_cell.data.zero_()\n",
    "        \n",
    "    def forward(self, input, state):\n",
    "        input = input.transpose(0, 1).contiguous()\n",
    "        \n",
    "        output, new_h, new_cell = LNPeepholeLSTMFunction.apply(input, self.weight_ih, self.weight_hh, self.weight_ch, self.bias, self.gamma_ih, self.gamma_hh, self.gamma_ch, self.gamma_tanh_cell, self.beta_tanh_cell, state[0], state[1], self.eps, self.dropout, self.training)\n",
    "        \n",
    "        return output.transpose(0, 1).contiguous(), (new_h, new_cell)\n",
    "    \n",
    "    def __repr__(self):\n",
    "        return f\"LNPeepholeLSTMCPP(input_size={self.input_size}, hidden_size={self.hidden_size}, dropout={self.dropout}, momentum={self.momentum}, eps={self.eps})\""
   ]
  },
  {
   "cell_type": "markdown",
   "metadata": {},
   "source": [
    "---"
   ]
  },
  {
   "cell_type": "markdown",
   "metadata": {},
   "source": [
    "## Defining models\n",
    "[go to top](#Peephole-LSTM-Test-&-Performance-Comparison-(Speed-&-Memory))"
   ]
  },
  {
   "cell_type": "markdown",
   "metadata": {},
   "source": [
    "### Definition\n",
    "[go to top](#Peephole-LSTM-Test-&-Performance-Comparison-(Speed-&-Memory))"
   ]
  },
  {
   "cell_type": "code",
   "execution_count": 4,
   "metadata": {},
   "outputs": [],
   "source": [
    "class LNPeepholeTorch(nn.Module):\n",
    "    def __init__(self, input_size, hidden_size, output_size, dropout=0, eps=1e-05):\n",
    "        super().__init__()\n",
    "        self.lstm0 = LNPeepholeLSTMTorch(input_size, hidden_size, dropout, eps)\n",
    "        self.lstm1 = LNPeepholeLSTMTorch(hidden_size, hidden_size, dropout, eps)\n",
    "        self.lstm2 = LNPeepholeLSTMTorch(hidden_size, hidden_size, dropout, eps)\n",
    "        self.fc = nn.Linear(hidden_size, output_size)\n",
    "        \n",
    "        self.input_size = input_size\n",
    "        self.hidden_size = hidden_size\n",
    "        self.output_size = output_size\n",
    "        \n",
    "    def forward(self, x, states):\n",
    "        hc1, hc2, hc3 = ((states[0][i], states[1][i]) for i in range(states[0].size(0)))\n",
    "        x, hc1 = self.lstm0(x, hc1)\n",
    "        x, hc2 = self.lstm1(x, hc2)\n",
    "        x, hc3 = self.lstm2(x, hc3)\n",
    "        x = self.fc(x)\n",
    "        new_states = (torch.cat((hc1[0], hc2[0], hc3[0])), torch.cat((hc1[1], hc2[1], hc3[1])))\n",
    "        return x, new_states\n",
    "\n",
    "########################################################################################################################\n",
    "    \n",
    "class LNPeepholeCPP(nn.Module):\n",
    "    def __init__(self, input_size, hidden_size, output_size, dropout=0, eps=1e-05):\n",
    "        super().__init__()\n",
    "        self.lstm0 = LNPeepholeLSTMCPP(input_size, hidden_size, dropout, eps)\n",
    "        self.lstm1 = LNPeepholeLSTMCPP(hidden_size, hidden_size, dropout, eps)\n",
    "        self.lstm2 = LNPeepholeLSTMCPP(hidden_size, hidden_size, dropout, eps)\n",
    "        self.fc = nn.Linear(hidden_size, output_size)\n",
    "        \n",
    "        self.input_size = input_size\n",
    "        self.hidden_size = hidden_size\n",
    "        self.output_size = output_size\n",
    "        \n",
    "    def forward(self, x, states):\n",
    "        hc1, hc2, hc3 = ((states[0][i], states[1][i]) for i in range(states[0].size(0)))\n",
    "        x, hc1 = self.lstm0(x, hc1)\n",
    "        x, hc2 = self.lstm1(x, hc2)\n",
    "        x, hc3 = self.lstm2(x, hc3)\n",
    "        x = self.fc(x)\n",
    "        new_states = (torch.cat((hc1[0], hc2[0], hc3[0])), torch.cat((hc1[1], hc2[1], hc3[1])))\n",
    "        return x, new_states"
   ]
  },
  {
   "cell_type": "markdown",
   "metadata": {},
   "source": [
    "### Instantiation\n",
    "[go to top](#Peephole-LSTM-Test-&-Performance-Comparison-(Speed-&-Memory))"
   ]
  },
  {
   "cell_type": "code",
   "execution_count": 5,
   "metadata": {},
   "outputs": [],
   "source": [
    "device = ('cpu', 'cuda')[1]\n",
    "\n",
    "input_size = 5\n",
    "hidden_size = 20\n",
    "output_size = 10\n",
    "dropout = 0.\n",
    "eps = 1e-05\n",
    "\n",
    "model_torch = LNPeepholeTorch(input_size, hidden_size, output_size, dropout, eps)\n",
    "model_cpp = LNPeepholeCPP(input_size, hidden_size, output_size, dropout, eps)\n",
    "\n",
    "model_torch.to(device)\n",
    "model_cpp.to(device)\n",
    "\n",
    "models = (model_torch, model_cpp)"
   ]
  },
  {
   "cell_type": "markdown",
   "metadata": {},
   "source": [
    "### Parameter Synchronization\n",
    "[go to top](#Peephole-LSTM-Test-&-Performance-Comparison-(Speed-&-Memory))"
   ]
  },
  {
   "cell_type": "code",
   "execution_count": 6,
   "metadata": {},
   "outputs": [
    {
     "name": "stdout",
     "output_type": "stream",
     "text": [
      "Synchronized Parameters:\n",
      "\n",
      "\tlstm2.gamma_hh\n",
      "\tlstm1.gamma_hh\n",
      "\tlstm2.weight_ih\n",
      "\tfc.bias\n",
      "\tlstm1.gamma_ih\n",
      "\tlstm0.beta_tanh_cell\n",
      "\tlstm2.bias\n",
      "\tlstm1.bias\n",
      "\tlstm1.gamma_ch\n",
      "\tlstm0.weight_hh\n",
      "\tlstm1.weight_ih\n",
      "\tlstm0.gamma_ih\n",
      "\tlstm1.weight_hh\n",
      "\tlstm2.gamma_ih\n",
      "\tlstm1.gamma_tanh_cell\n",
      "\tlstm2.gamma_ch\n",
      "\tlstm0.gamma_tanh_cell\n",
      "\tfc.weight\n",
      "\tlstm2.weight_hh\n",
      "\tlstm0.gamma_hh\n",
      "\tlstm0.bias\n",
      "\tlstm1.weight_ch\n",
      "\tlstm2.weight_ch\n",
      "\tlstm0.weight_ch\n",
      "\tlstm2.gamma_tanh_cell\n",
      "\tlstm0.gamma_ch\n",
      "\tlstm2.beta_tanh_cell\n",
      "\tlstm0.weight_ih\n",
      "\tlstm1.beta_tanh_cell\n",
      "\n",
      "Exclusive Parameters (Not Synchronized):\n",
      "\n"
     ]
    }
   ],
   "source": [
    "named_parameter_dicts = [\n",
    "    dict(model_torch.named_parameters()),\n",
    "    dict(model_cpp.named_parameters())\n",
    "]\n",
    "\n",
    "print(\"Synchronized Parameters:\\n\")\n",
    "for common_param_name in set.intersection(*(set(npd.keys()) for npd in named_parameter_dicts)):\n",
    "    print(\"\\t{}\".format(common_param_name))\n",
    "    for i in range(1, len(named_parameter_dicts)):\n",
    "        if named_parameter_dicts[i][common_param_name].size() == named_parameter_dicts[0][common_param_name].size():\n",
    "            named_parameter_dicts[i][common_param_name].data = named_parameter_dicts[0][common_param_name].data\n",
    "        else:\n",
    "            raise RuntimeError(\"Size mismatch\\n0:{}\\n{i}:{}\".format(named_parameter_dicts[0][common_param_name].size(),\n",
    "                                                                    named_parameter_dicts[i][common_param_name].size()))\n",
    "print()\n",
    "print(\"Exclusive Parameters (Not Synchronized):\\n\")\n",
    "for exclusive_param_name in set.union(*(set(npd.keys()) for npd in named_parameter_dicts)) - set.intersection(*(set(npd.keys()) for npd in named_parameter_dicts)):\n",
    "    print(\"\\t{}\".format(exclusive_param_name))"
   ]
  },
  {
   "cell_type": "markdown",
   "metadata": {},
   "source": [
    "---"
   ]
  },
  {
   "cell_type": "markdown",
   "metadata": {},
   "source": [
    "## Creating a fake dataset\n",
    "[go to top](#Peephole-LSTM-Test-&-Performance-Comparison-(Speed-&-Memory))"
   ]
  },
  {
   "cell_type": "code",
   "execution_count": 7,
   "metadata": {},
   "outputs": [],
   "source": [
    "def create_fake_loader(dataset_size, sequence_length, batch_size, drop_last=True):\n",
    "    fake_inputs = torch.randn(dataset_size, sequence_length, input_size)\n",
    "    fake_targets = torch.randint(high=output_size, size=(dataset_size, sequence_length), dtype=torch.int64)\n",
    "\n",
    "    fake_dataset = TensorDataset(fake_inputs, fake_targets)\n",
    "\n",
    "    fake_loader = DataLoader(fake_dataset, batch_size=batch_size, drop_last=drop_last)\n",
    "    \n",
    "    return fake_loader"
   ]
  },
  {
   "cell_type": "code",
   "execution_count": 8,
   "metadata": {},
   "outputs": [
    {
     "name": "stdout",
     "output_type": "stream",
     "text": [
      "torch.Size([32, 20, 5]) torch.Size([32, 20])\n"
     ]
    }
   ],
   "source": [
    "dataset_size = 1000\n",
    "sequence_length = 20\n",
    "batch_size = 32\n",
    "\n",
    "fake_loader = create_fake_loader(dataset_size, sequence_length, batch_size)\n",
    "print(next(iter(fake_loader))[0].size(), next(iter(fake_loader))[1].size())"
   ]
  },
  {
   "cell_type": "markdown",
   "metadata": {},
   "source": [
    "---"
   ]
  },
  {
   "cell_type": "markdown",
   "metadata": {},
   "source": [
    "## Sanity check: output comparison\n",
    "[go to top](#Peephole-LSTM-Test-&-Performance-Comparison-(Speed-&-Memory))"
   ]
  },
  {
   "cell_type": "markdown",
   "metadata": {},
   "source": [
    "### Forward Outputs\n",
    "[go to top](#Peephole-LSTM-Test-&-Performance-Comparison-(Speed-&-Memory))"
   ]
  },
  {
   "cell_type": "code",
   "execution_count": 9,
   "metadata": {
    "scrolled": false
   },
   "outputs": [
    {
     "name": "stdout",
     "output_type": "stream",
     "text": [
      "[model_torch]\n",
      "\n",
      "{partial output}\n",
      "tensor([[[ 0.0304,  0.2172, -0.0624, -0.1318, -0.0283,  0.1379, -0.1804],\n",
      "         [ 0.0303,  0.2071, -0.0516, -0.1227, -0.0175,  0.1362, -0.1736]],\n",
      "\n",
      "        [[ 0.2551, -0.1635,  0.1305, -0.0884, -0.1512, -0.0729, -0.3870],\n",
      "         [ 0.2448, -0.1478,  0.1165, -0.1006, -0.1696, -0.0577, -0.3851]],\n",
      "\n",
      "        [[ 0.4270,  0.0743, -0.3394, -0.3259, -0.0720, -0.1036, -0.2924],\n",
      "         [ 0.4107,  0.1626, -0.3268, -0.3683, -0.1054, -0.0973, -0.2562]],\n",
      "\n",
      "        [[ 0.1277,  0.0291, -0.2125, -0.0557,  0.0559,  0.0716, -0.1245],\n",
      "         [ 0.1189,  0.0394, -0.2497, -0.0533,  0.0603,  0.0882, -0.1024]]],\n",
      "       device='cuda:0')\n",
      "\n",
      "\n",
      "[model_cpp]\n",
      "\n",
      "{partial output}\n",
      "tensor([[[ 0.0304,  0.2172, -0.0624, -0.1318, -0.0283,  0.1379, -0.1804],\n",
      "         [ 0.0303,  0.2071, -0.0516, -0.1227, -0.0175,  0.1362, -0.1736]],\n",
      "\n",
      "        [[ 0.2551, -0.1635,  0.1305, -0.0884, -0.1512, -0.0729, -0.3870],\n",
      "         [ 0.2448, -0.1478,  0.1165, -0.1006, -0.1696, -0.0577, -0.3851]],\n",
      "\n",
      "        [[ 0.4270,  0.0743, -0.3394, -0.3259, -0.0720, -0.1036, -0.2924],\n",
      "         [ 0.4107,  0.1626, -0.3268, -0.3683, -0.1054, -0.0973, -0.2562]],\n",
      "\n",
      "        [[ 0.1277,  0.0291, -0.2125, -0.0557,  0.0559,  0.0716, -0.1245],\n",
      "         [ 0.1189,  0.0394, -0.2497, -0.0533,  0.0603,  0.0882, -0.1024]]],\n",
      "       device='cuda:0')\n",
      "\n",
      "tensor(0.0005, device='cuda:0')\n"
     ]
    }
   ],
   "source": [
    "hidden = (torch.zeros(3, batch_size, hidden_size, device=device), torch.zeros(3, batch_size, hidden_size, device=device))\n",
    "\n",
    "inputs = next(iter(fake_loader))[0].to(device)\n",
    "\n",
    "for model in models:\n",
    "    model.train()\n",
    "#     model.eval()\n",
    "\n",
    "with torch.no_grad():\n",
    "    print(\"[model_torch]\")\n",
    "    print(\"\\n{partial output}\")\n",
    "    out0 = model_torch(inputs, hidden)[0]\n",
    "    print(out0[:4, -2:, :7])\n",
    "    print(\"\\n\")\n",
    "    print(\"[model_cpp]\")\n",
    "    print(\"\\n{partial output}\")\n",
    "    out1 = model_cpp(inputs, hidden)[0]\n",
    "    print(out1[:4, -2:, :7])\n",
    "    print()\n",
    "    print(out0.sub(out1).abs().sum())"
   ]
  },
  {
   "cell_type": "markdown",
   "metadata": {},
   "source": [
    "### Backward Gradients\n",
    "[go to top](#Peephole-LSTM-Test-&-Performance-Comparison-(Speed-&-Memory))"
   ]
  },
  {
   "cell_type": "code",
   "execution_count": 10,
   "metadata": {
    "scrolled": false
   },
   "outputs": [
    {
     "name": "stdout",
     "output_type": "stream",
     "text": [
      "tensor(2.3261, device='cuda:0', grad_fn=<NllLossBackward>)\n",
      "tensor(2.3261, device='cuda:0', grad_fn=<NllLossBackward>)\n",
      "\n",
      "model_torch\n",
      "tensor([ 0.0022, -0.0060,  0.0009,  0.0010, -0.0003,  0.0085, -0.0020],\n",
      "       device='cuda:0')\n",
      "tensor([-0.0004, -0.0006, -0.0006, -0.0001, -0.0002, -0.0012,  0.0003, -0.0003,\n",
      "         0.0008,  0.0017, -0.0014, -0.0005, -0.0004,  0.0020,  0.0034,  0.0001,\n",
      "        -0.0011, -0.0011,  0.0007,  0.0003, -0.0003, -0.0001, -0.0007, -0.0000,\n",
      "        -0.0019], device='cuda:0')\n",
      "\n",
      "\n",
      "model_cpp\n",
      "tensor([ 0.0022, -0.0060,  0.0009,  0.0010, -0.0003,  0.0085, -0.0020],\n",
      "       device='cuda:0')\n",
      "tensor([-0.0004, -0.0006, -0.0006, -0.0001, -0.0002, -0.0012,  0.0003, -0.0003,\n",
      "         0.0008,  0.0017, -0.0014, -0.0005, -0.0004,  0.0020,  0.0034,  0.0001,\n",
      "        -0.0011, -0.0011,  0.0007,  0.0003, -0.0003, -0.0001, -0.0007, -0.0000,\n",
      "        -0.0019], device='cuda:0')\n",
      "\n",
      "\n",
      "tensor(0.0000, device='cuda:0')\n"
     ]
    }
   ],
   "source": [
    "criterion = nn.CrossEntropyLoss()\n",
    "\n",
    "hidden = (torch.zeros(3, batch_size, hidden_size, device=device), torch.zeros(3, batch_size, hidden_size, device=device))\n",
    "\n",
    "inputs, targets = next(iter(fake_loader))\n",
    "inputs = inputs.to(device)\n",
    "targets = targets.to(device)\n",
    "\n",
    "for model in models:\n",
    "    model.train()\n",
    "#     model.eval()\n",
    "    model.zero_grad()\n",
    "    loss = criterion(model(inputs, hidden)[0].flatten(0, 1), targets.flatten(0, 1))\n",
    "    print(loss)\n",
    "    loss.backward()\n",
    "\n",
    "print()\n",
    "print(\"model_torch\")\n",
    "# print(model_torch.lstm2.weight_ih.grad[:4, :7])\n",
    "print(model_torch.lstm2.beta_tanh_cell.grad[:7])\n",
    "print(model_torch.lstm2.bias.grad[:25])\n",
    "print(\"\\n\")\n",
    "print(\"model_cpp\")\n",
    "# print(model_cpp.lstm2.weight_ih.grad[:4, :7])\n",
    "print(model_cpp.lstm2.beta_tanh_cell.grad[:7])\n",
    "print(model_torch.lstm2.bias.grad[:25])\n",
    "print(\"\\n\")\n",
    "print(model_torch.lstm2.weight_ih.grad.sub(model_cpp.lstm2.weight_ih.grad).abs().sum())"
   ]
  },
  {
   "cell_type": "markdown",
   "metadata": {},
   "source": [
    "---"
   ]
  },
  {
   "cell_type": "markdown",
   "metadata": {},
   "source": [
    "## Forward time comparison\n",
    "[go to top](#Peephole-LSTM-Test-&-Performance-Comparison-(Speed-&-Memory))"
   ]
  },
  {
   "cell_type": "code",
   "execution_count": 11,
   "metadata": {},
   "outputs": [],
   "source": [
    "dataset_size = 1000\n",
    "sequence_length = 20\n",
    "batch_size = 32\n",
    "\n",
    "model_torch.train()\n",
    "model_cpp.train()\n",
    "\n",
    "fake_loader = create_fake_loader(dataset_size, sequence_length, batch_size, drop_last=True)\n",
    "\n",
    "hidden = (torch.zeros(3, batch_size, hidden_size, device=device), torch.zeros(3, batch_size, hidden_size, device=device))"
   ]
  },
  {
   "cell_type": "code",
   "execution_count": 12,
   "metadata": {},
   "outputs": [
    {
     "name": "stdout",
     "output_type": "stream",
     "text": [
      "4.23 s ± 81 ms per loop (mean ± std. dev. of 10 runs, 1 loop each)\n"
     ]
    }
   ],
   "source": [
    "%%timeit -n 1 -r 10\n",
    "with torch.no_grad():\n",
    "    for inputs, _ in fake_loader:\n",
    "        inputs = inputs.to(device)\n",
    "        model_torch(inputs, hidden)"
   ]
  },
  {
   "cell_type": "code",
   "execution_count": 13,
   "metadata": {
    "scrolled": true
   },
   "outputs": [
    {
     "name": "stdout",
     "output_type": "stream",
     "text": [
      "7.76 s ± 244 ms per loop (mean ± std. dev. of 10 runs, 1 loop each)\n"
     ]
    }
   ],
   "source": [
    "%%timeit -n 1 -r 10\n",
    "with torch.no_grad():\n",
    "    for inputs, _ in fake_loader:\n",
    "        inputs = inputs.to(device)\n",
    "        model_cpp(inputs, hidden)"
   ]
  },
  {
   "cell_type": "markdown",
   "metadata": {},
   "source": [
    "---"
   ]
  },
  {
   "cell_type": "markdown",
   "metadata": {},
   "source": [
    "## +Backward time comparison\n",
    "[go to top](#Peephole-LSTM-Test-&-Performance-Comparison-(Speed-&-Memory))"
   ]
  },
  {
   "cell_type": "code",
   "execution_count": null,
   "metadata": {},
   "outputs": [],
   "source": [
    "criterion = nn.CrossEntropyLoss()"
   ]
  },
  {
   "cell_type": "code",
   "execution_count": null,
   "metadata": {},
   "outputs": [],
   "source": [
    "%%timeit -r 10\n",
    "for inputs, targets in fake_loader:\n",
    "    inputs = inputs.to(device)\n",
    "    targets = targets.to(device)\n",
    "    model_torch.zero_grad()\n",
    "    criterion(model_torch(inputs, hidden)[0].flatten(0, 1), targets.flatten(0, 1)).backward()"
   ]
  },
  {
   "cell_type": "code",
   "execution_count": null,
   "metadata": {},
   "outputs": [],
   "source": [
    "%%timeit -r 10\n",
    "for inputs, targets in fake_loader:\n",
    "    inputs = inputs.to(device)\n",
    "    targets = targets.to(device)\n",
    "    model_cpp.zero_grad()\n",
    "    criterion(model_cpp(inputs, hidden)[0].flatten(0, 1), targets.flatten(0, 1)).backward()"
   ]
  },
  {
   "cell_type": "markdown",
   "metadata": {},
   "source": [
    "---"
   ]
  }
 ],
 "metadata": {
  "kernelspec": {
   "display_name": "Python 3",
   "language": "python",
   "name": "python3"
  },
  "language_info": {
   "codemirror_mode": {
    "name": "ipython",
    "version": 3
   },
   "file_extension": ".py",
   "mimetype": "text/x-python",
   "name": "python",
   "nbconvert_exporter": "python",
   "pygments_lexer": "ipython3",
   "version": "3.6.7"
  }
 },
 "nbformat": 4,
 "nbformat_minor": 2
}
