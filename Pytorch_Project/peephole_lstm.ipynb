{
 "cells": [
  {
   "cell_type": "markdown",
   "metadata": {},
   "source": [
    "# Peephole LSTM Test & Performance Comparison (Speed & Memory)"
   ]
  },
  {
   "cell_type": "markdown",
   "metadata": {},
   "source": [
    "* [Imports](#Importing-necessary-modules)\n",
    "* [Load & Definition](#Loading-and-defining-modules)\n",
    "    * [Autograd Functions](#Autograd-Functions)\n",
    "    * [Module Classes](#Module-classes-(C++,-CUDA,-PyTorch))\n",
    "* [Models](#Defining-models)\n",
    "    * [Definition](#Definition)\n",
    "    * [Instantiation](#Instantiation)\n",
    "    * [Parameter Synchronization](#Parameter-Synchronization)\n",
    "* [Fake Dataset](#Creating-a-fake-dataset)\n",
    "* [Sanity Check](#Sanity-check:-output-comparison)\n",
    "    * [Forward Outputs](#Forward-Outputs)\n",
    "    * [Backward Gradients](#Backward-Gradients)\n",
    "* [Forward Performance](#Forward-time-comparison)\n",
    "* [+Backward Performance](#+Backward-time-comparison)"
   ]
  },
  {
   "cell_type": "markdown",
   "metadata": {},
   "source": [
    "---"
   ]
  },
  {
   "cell_type": "markdown",
   "metadata": {},
   "source": [
    "## Importing necessary modules\n",
    "[go to top](#Peephole-LSTM-Test-&-Performance-Comparison-(Speed-&-Memory))"
   ]
  },
  {
   "cell_type": "code",
   "execution_count": 1,
   "metadata": {},
   "outputs": [
    {
     "data": {
      "text/plain": [
       "'0.4.1'"
      ]
     },
     "execution_count": 1,
     "metadata": {},
     "output_type": "execute_result"
    }
   ],
   "source": [
    "import torch\n",
    "from torch import nn\n",
    "from torch.utils.cpp_extension import load\n",
    "from torch.nn import functional as F\n",
    "from torch.utils.data import TensorDataset, DataLoader\n",
    "\n",
    "import math\n",
    "from collections import OrderedDict\n",
    "from time import sleep\n",
    "\n",
    "torch.__version__"
   ]
  },
  {
   "cell_type": "markdown",
   "metadata": {},
   "source": [
    "---"
   ]
  },
  {
   "cell_type": "markdown",
   "metadata": {},
   "source": [
    "## Loading and defining modules\n",
    "[go to top](#Peephole-LSTM-Test-&-Performance-Comparison-(Speed-&-Memory))"
   ]
  },
  {
   "cell_type": "markdown",
   "metadata": {},
   "source": [
    "### Autograd Functions\n",
    "[go to top](#Peephole-LSTM-Test-&-Performance-Comparison-(Speed-&-Memory))"
   ]
  },
  {
   "cell_type": "code",
   "execution_count": 2,
   "metadata": {},
   "outputs": [
    {
     "name": "stderr",
     "output_type": "stream",
     "text": [
      "c:\\users\\0107w\\anaconda3\\envs\\pytorch\\lib\\site-packages\\torch\\utils\\cpp_extension.py:92: UserWarning: Error checking compiler version: Command '['c++']' returned non-zero exit status 1.\n",
      "  warnings.warn('Error checking compiler version: {}'.format(error))\n",
      "c:\\users\\0107w\\anaconda3\\envs\\pytorch\\lib\\site-packages\\torch\\utils\\cpp_extension.py:118: UserWarning: \n",
      "\n",
      "                               !! WARNING !!\n",
      "\n",
      "!!!!!!!!!!!!!!!!!!!!!!!!!!!!!!!!!!!!!!!!!!!!!!!!!!!!!!!!!!!!!!!!!!!!!!!!!!!!!!!\n",
      "Your compiler (c++) may be ABI-incompatible with PyTorch!\n",
      "Please use a compiler that is ABI-compatible with GCC 4.9 and above.\n",
      "See https://gcc.gnu.org/onlinedocs/libstdc++/manual/abi.html.\n",
      "\n",
      "See https://gist.github.com/goldsborough/d466f43e8ffc948ff92de7486c5216d6\n",
      "for instructions on how to install GCC 4.9 or higher.\n",
      "!!!!!!!!!!!!!!!!!!!!!!!!!!!!!!!!!!!!!!!!!!!!!!!!!!!!!!!!!!!!!!!!!!!!!!!!!!!!!!!\n",
      "\n",
      "                              !! WARNING !!\n",
      "\n",
      "  warnings.warn(ABI_INCOMPATIBILITY_WARNING.format(compiler))\n"
     ]
    }
   ],
   "source": [
    "_peephole_lstm_cell = load('peephole_lstm_cell', ['./peephole_lstm_cell.cpp'])\n",
    "_peephole_lstm_cpp = load('peephole_lstm', ['./peephole_lstm.cpp'])\n",
    "_peephole_lstm_cuda = load('peephole_lstm_cuda', ['./peephole_lstm_cuda.cpp', './peephole_lstm_cuda_kernal.cu'])\n",
    "\n",
    "########################################################################################################################\n",
    "\n",
    "class PeepholeLSTMCellFunction(torch.autograd.Function):\n",
    "    @staticmethod\n",
    "    def forward(ctx, input, weight_ih, weight_hh, weight_ch, bias, old_h, old_cell):\n",
    "        outputs = _peephole_lstm_cell.forward(input, weight_ih, weight_hh, weight_ch, bias, old_h, old_cell)\n",
    "        new_h, new_cell = outputs[:2]\n",
    "        variables = [old_cell] + outputs[2:] + [weight_ih, weight_hh, weight_ch]\n",
    "        ctx.save_for_backward(*variables)\n",
    "\n",
    "        return new_h, new_cell\n",
    "\n",
    "    @staticmethod\n",
    "    def backward(ctx, grad_h, grad_cell):\n",
    "        outputs = _peephole_lstm_cell.backward(\n",
    "            grad_h.contiguous(), grad_cell.contiguous(), *ctx.saved_tensors)\n",
    "        d_old_h, d_old_cell, d_input, d_weight_ih, d_weight_hh, d_weight_ch, d_bias = outputs\n",
    "        return d_input, d_weight_ih, d_weight_hh, d_weight_ch, d_bias, d_old_h, d_old_cell\n",
    "    \n",
    "########################################################################################################################\n",
    "    \n",
    "class PeepholeLSTMFunction(torch.autograd.Function):\n",
    "    @staticmethod\n",
    "    def forward(ctx, input, weight_ih, weight_hh, weight_ch, bias, old_h, old_cell, dropout_p, training):\n",
    "        outputs = _peephole_lstm_cpp.forward(input, weight_ih, weight_hh, weight_ch, bias, old_h, old_cell, dropout_p, training)\n",
    "        out, new_h, new_cell = outputs[:3]\n",
    "        variables = outputs[3:] + [weight_ih, weight_hh, weight_ch]\n",
    "        ctx.save_for_backward(*variables)\n",
    "\n",
    "        return out, new_h, new_cell\n",
    "\n",
    "    @staticmethod\n",
    "    def backward(ctx, grad_output, grad_h, grad_cell):\n",
    "        outputs = _peephole_lstm_cpp.backward(\n",
    "            grad_output.contiguous(), grad_h.contiguous(), grad_cell.contiguous(), *ctx.saved_tensors)\n",
    "        d_old_h, d_old_cell, d_input, d_weight_ih, d_weight_hh, d_weight_ch, d_bias = outputs\n",
    "        return d_input, d_weight_ih, d_weight_hh, d_weight_ch, d_bias, d_old_h, d_old_cell, None, None\n",
    "    \n",
    "########################################################################################################################\n",
    "    \n",
    "class PeepholeLSTMCUDAFunction(torch.autograd.Function):\n",
    "    @staticmethod\n",
    "    def forward(ctx, input, weight_ih, weight_hh, weight_ch, bias, old_h, old_cell, dropout_p, training):\n",
    "        outputs = _peephole_lstm_cuda.forward(input, weight_ih, weight_hh, weight_ch, bias, old_h, old_cell, dropout_p, training)\n",
    "        out, new_h, new_cell = outputs[:3]\n",
    "        variables = outputs[3:] + [weight_ih, weight_hh, weight_ch]\n",
    "        ctx.save_for_backward(*variables)\n",
    "\n",
    "        return out, new_h, new_cell\n",
    "\n",
    "    @staticmethod\n",
    "    def backward(ctx, grad_output, grad_h, grad_cell):\n",
    "        outputs = _peephole_lstm_cuda.backward(\n",
    "            grad_output.contiguous(), grad_h.contiguous(), grad_cell.contiguous(), *ctx.saved_tensors)\n",
    "        d_old_h, d_old_cell, d_input, d_weight_ih, d_weight_hh, d_weight_ch, d_bias = outputs\n",
    "        return d_input, d_weight_ih, d_weight_hh, d_weight_ch, d_bias, d_old_h, d_old_cell, None, None"
   ]
  },
  {
   "cell_type": "markdown",
   "metadata": {},
   "source": [
    "### Module classes (C++, CUDA, PyTorch)\n",
    "[go to top](#Peephole-LSTM-Test-&-Performance-Comparison-(Speed-&-Memory))"
   ]
  },
  {
   "cell_type": "code",
   "execution_count": 3,
   "metadata": {},
   "outputs": [],
   "source": [
    "class PeepholeLSTMCellTorch(nn.Module):\n",
    "    def __init__(self, input_size, hidden_size):\n",
    "        super(PeepholeLSTMCellTorch, self).__init__()\n",
    "        self.input_size = input_size\n",
    "        self.hidden_size = hidden_size\n",
    "        self.weight_ih = torch.nn.Parameter(torch.empty(4 * hidden_size, input_size))\n",
    "        self.weight_hh = torch.nn.Parameter(torch.empty(4 * hidden_size, hidden_size))\n",
    "        self.weight_ch = torch.nn.Parameter(torch.empty(3 * hidden_size, hidden_size))\n",
    "        self.bias = torch.nn.Parameter(torch.empty(4 * hidden_size))\n",
    "        self.reset_parameters()\n",
    "\n",
    "    def reset_parameters(self):\n",
    "        stdv = 1.0 / math.sqrt(self.input_size + 2 * self.hidden_size)\n",
    "        for param in self.parameters():\n",
    "            param.data.uniform_(-stdv, +stdv)\n",
    "\n",
    "    def forward(self, input, states):\n",
    "        gates = torch.addmm(self.bias, input, self.weight_ih.t())\n",
    "        gates = gates + torch.mm(states[0], self.weight_hh.t())\n",
    "        gates[:, :3 * self.hidden_size] = gates[:, :3 * self.hidden_size] + torch.mm(states[1], self.weight_ch.t())\n",
    "        gates = torch.cat((gates[:, :3*self.hidden_size].sigmoid(), gates[:, 3*self.hidden_size:].tanh()), dim=1).chunk(4, dim=1)\n",
    "    \n",
    "        new_cell = ( states[1] * gates[0] ) + ( gates[1] * gates[3] )\n",
    "        new_hidden = gates[2] * new_cell.tanh()\n",
    "    \n",
    "        return new_hidden, new_cell\n",
    "    \n",
    "    def __repr__(self):\n",
    "        return f\"PeepholeLSTMCellTorch(input_size={self.input_size}, hidden_size={self.hidden_size})\"\n",
    "\n",
    "########################################################################################################################\n",
    "\n",
    "class PeepholeLSTMCell(nn.Module):\n",
    "    def __init__(self, input_size, hidden_size):\n",
    "        super(PeepholeLSTMCell, self).__init__()\n",
    "        self.input_size = input_size\n",
    "        self.hidden_size = hidden_size\n",
    "        self.weight_ih = torch.nn.Parameter(torch.empty(4 * hidden_size, input_size))\n",
    "        self.weight_hh = torch.nn.Parameter(torch.empty(4 * hidden_size, hidden_size))\n",
    "        self.weight_ch = torch.nn.Parameter(torch.empty(3 * hidden_size, hidden_size))\n",
    "        self.bias = torch.nn.Parameter(torch.empty(4 * hidden_size))\n",
    "        self.reset_parameters()\n",
    "\n",
    "    def reset_parameters(self):\n",
    "        stdv = 1.0 / math.sqrt(self.input_size + 2 * self.hidden_size)\n",
    "        for weight in self.parameters():\n",
    "            weight.data.uniform_(-stdv, +stdv)\n",
    "\n",
    "    def forward(self, input, states):\n",
    "        return PeepholeLSTMCellFunction.apply(input, self.weight_ih, self.weight_hh, self.weight_ch, self.bias, *states)\n",
    "    \n",
    "    def __repr__(self):\n",
    "        return f\"PeepholeLSTMCell(input_size={self.input_size}, hidden_size={self.hidden_size})\"\n",
    "\n",
    "########################################################################################################################\n",
    "    \n",
    "class PeepholeLSTMTorch(nn.Module):\n",
    "    def __init__(self, input_size, hidden_size, dropout=0.):\n",
    "        if not 0 <= dropout <= 1:\n",
    "            raise ValueError(f\"Invalid dropout value : {dropout} dropout must be in range [0, 1].\")\n",
    "        super(PeepholeLSTMTorch, self).__init__()\n",
    "        self.input_size = input_size\n",
    "        self.hidden_size = hidden_size\n",
    "        self.dropout = dropout\n",
    "        self.weight_ih = torch.nn.Parameter(torch.empty(4 * hidden_size, input_size))\n",
    "        self.weight_hh = torch.nn.Parameter(torch.empty(4 * hidden_size, hidden_size))\n",
    "        self.weight_ch = torch.nn.Parameter(torch.empty(3 * hidden_size, hidden_size))\n",
    "        self.bias = torch.nn.Parameter(torch.empty(4 * hidden_size))\n",
    "        self.reset_parameters()\n",
    "\n",
    "    def reset_parameters(self):\n",
    "        stdv = 1.0 / math.sqrt(self.input_size + 2 * self.hidden_size)\n",
    "        for param in self.parameters():\n",
    "            param.data.uniform_(-stdv, +stdv)\n",
    "\n",
    "    def forward(self, input, states):\n",
    "        assert input.dim() == 3\n",
    "        outputs = input.new_empty((input.size(0), input.size(1), self.hidden_size))\n",
    "        \n",
    "        h = states[0].clone()\n",
    "        c = states[1].clone()\n",
    "        \n",
    "        weight_ih = self.weight_ih.t()\n",
    "        weight_hh = self.weight_hh.t()\n",
    "        weight_ch = self.weight_ch.t()\n",
    "        \n",
    "        ih = torch.matmul(input.transpose(0, 1), weight_ih)\n",
    "        \n",
    "        for i in range(input.size(1)):\n",
    "            h = F.dropout(h, p=self.dropout, training=self.training)\n",
    "            \n",
    "            gates = ih[i] + torch.addmm(self.bias, h, weight_hh)\n",
    "            gates[:, :3 * self.hidden_size] += torch.mm(c, weight_ch)\n",
    "            \n",
    "            gates = torch.cat((gates[:, :3 * self.hidden_size].sigmoid(), gates[:, 3 * self.hidden_size:].tanh()), dim=1).chunk(chunks=4, dim=1)\n",
    "            \n",
    "            c = torch.addcmul(gates[1] * gates[3], c, gates[0])\n",
    "            h = gates[2] * c.tanh()\n",
    "            \n",
    "            outputs[:, i] = h\n",
    "        \n",
    "        outputs = F.dropout(outputs, p=self.dropout, training=self.training)\n",
    "    \n",
    "        return outputs, (h, c)\n",
    "    \n",
    "    def __repr__(self):\n",
    "        return f\"PeepholeLSTMTorch(input_size={self.input_size}, hidden_size={self.hidden_size}, dropout={self.dropout})\"\n",
    "    \n",
    "########################################################################################################################\n",
    "    \n",
    "class PeepholeLSTM(nn.Module):\n",
    "    def __init__(self, input_size, hidden_size, dropout=0.):\n",
    "        if not 0 <= dropout <= 1:\n",
    "            raise ValueError(f\"Invalid dropout value : {dropout} dropout must be in range [0, 1].\")\n",
    "        super(PeepholeLSTM, self).__init__()\n",
    "        self.input_size = input_size\n",
    "        self.hidden_size = hidden_size\n",
    "        self.dropout = float(dropout)\n",
    "        self.weight_ih = torch.nn.Parameter(torch.empty(4 * hidden_size, input_size))\n",
    "        self.weight_hh = torch.nn.Parameter(torch.empty(4 * hidden_size, hidden_size))\n",
    "        self.weight_ch = torch.nn.Parameter(torch.empty(3 * hidden_size, hidden_size))\n",
    "        self.bias = torch.nn.Parameter(torch.empty(4 * hidden_size))\n",
    "        self.reset_parameters()\n",
    "\n",
    "    def reset_parameters(self):\n",
    "        stdv = 1.0 / math.sqrt(self.input_size + 2 * self.hidden_size)\n",
    "        for weight in self.parameters():\n",
    "            weight.data.uniform_(-stdv, +stdv)\n",
    "\n",
    "    def forward(self, input, states):\n",
    "        dropout = self.dropout if self.training else 0.\n",
    "        input = input.transpose(0, 1).contiguous()\n",
    "        output, new_h, new_cell = PeepholeLSTMFunction.apply(input, self.weight_ih, self.weight_hh, self.weight_ch,\n",
    "                                                             self.bias, *states, dropout, self.training)\n",
    "        return output.transpose(0, 1).contiguous(), (new_h, new_cell)\n",
    "    \n",
    "    def __repr__(self):\n",
    "        return f\"PeepholeLSTM(input_size={self.input_size}, hidden_size={self.hidden_size}, dropout={self.dropout})\"\n",
    "    \n",
    "########################################################################################################################\n",
    "    \n",
    "class PeepholeLSTMCUDA(nn.Module):\n",
    "    def __init__(self, input_size, hidden_size, dropout=0.):\n",
    "        if not 0 <= dropout <= 1:\n",
    "            raise ValueError(f\"Invalid dropout value : {dropout} dropout must be in range [0, 1].\")\n",
    "        super(PeepholeLSTMCUDA, self).__init__()\n",
    "        self.input_size = input_size\n",
    "        self.hidden_size = hidden_size\n",
    "        self.dropout = float(dropout)\n",
    "        self.weight_ih = torch.nn.Parameter(torch.empty(4 * hidden_size, input_size))\n",
    "        self.weight_hh = torch.nn.Parameter(torch.empty(4 * hidden_size, hidden_size))\n",
    "        self.weight_ch = torch.nn.Parameter(torch.empty(3 * hidden_size, hidden_size))\n",
    "        self.bias = torch.nn.Parameter(torch.empty(4 * hidden_size))\n",
    "        self.reset_parameters()\n",
    "\n",
    "    def reset_parameters(self):\n",
    "        stdv = 1.0 / math.sqrt(self.input_size + 2 * self.hidden_size)\n",
    "        for weight in self.parameters():\n",
    "            weight.data.uniform_(-stdv, +stdv)\n",
    "\n",
    "    def forward(self, input, states):\n",
    "        dropout = self.dropout if self.training else 0.\n",
    "        input = input.transpose(0, 1).contiguous()\n",
    "        output, new_h, new_cell = PeepholeLSTMCUDAFunction.apply(input, self.weight_ih, self.weight_hh, self.weight_ch,\n",
    "                                                                 self.bias, *states, dropout, self.training)\n",
    "        return output.transpose(0, 1).contiguous(), (new_h, new_cell)\n",
    "    \n",
    "    def __repr__(self):\n",
    "        return f\"PeepholeLSTMCUDA(input_size={self.input_size}, hidden_size={self.hidden_size}, dropout={self.dropout})\""
   ]
  },
  {
   "cell_type": "markdown",
   "metadata": {},
   "source": [
    "---"
   ]
  },
  {
   "cell_type": "markdown",
   "metadata": {},
   "source": [
    "## Defining models\n",
    "[go to top](#Peephole-LSTM-Test-&-Performance-Comparison-(Speed-&-Memory))"
   ]
  },
  {
   "cell_type": "markdown",
   "metadata": {},
   "source": [
    "### Definition\n",
    "[go to top](#Peephole-LSTM-Test-&-Performance-Comparison-(Speed-&-Memory))"
   ]
  },
  {
   "cell_type": "code",
   "execution_count": 4,
   "metadata": {},
   "outputs": [],
   "source": [
    "class PeepholeTorch(nn.Module):\n",
    "    def __init__(self, input_size, hidden_size, output_size):\n",
    "        super().__init__()\n",
    "        self.lstm0 = PeepholeLSTMCellTorch(input_size, hidden_size)\n",
    "        self.lstm1 = PeepholeLSTMCellTorch(hidden_size, hidden_size)\n",
    "        self.lstm2 = PeepholeLSTMCellTorch(hidden_size, hidden_size)\n",
    "        self.fc = nn.Linear(hidden_size, output_size)\n",
    "        \n",
    "        self.input_size = input_size\n",
    "        self.hidden_size = hidden_size\n",
    "        self.output_size = output_size\n",
    "        \n",
    "    def forward(self, x, states):\n",
    "        output = x.new_empty(x.size(0), x.size(1), self.output_size)\n",
    "        hc1, hc2, hc3 = ((states[0][i], states[1][i]) for i in range(states[0].size(0)))\n",
    "        for i, seq_batch in enumerate(x.transpose(0, 1)):\n",
    "            hc1 = self.lstm0(seq_batch, hc1)\n",
    "            hc2 = self.lstm1(F.dropout(hc1[0], p=0, training=self.training), hc2)\n",
    "            hc3 = self.lstm2(F.dropout(hc2[0], p=0, training=self.training), hc3)\n",
    "            output[:, i, :] = self.fc(F.dropout(hc3[0], p=0, training=self.training))\n",
    "        new_states = (torch.cat((hc1[0], hc2[0], hc3[0])), torch.cat((hc1[1], hc2[1], hc3[1])))\n",
    "        return output, new_states\n",
    "\n",
    "########################################################################################################################\n",
    "    \n",
    "class PeepholeCPP(nn.Module):\n",
    "    def __init__(self, input_size, hidden_size, output_size):\n",
    "        super().__init__()\n",
    "        self.lstm0 = PeepholeLSTMCell(input_size, hidden_size)\n",
    "        self.lstm1 = PeepholeLSTMCell(hidden_size, hidden_size)\n",
    "        self.lstm2 = PeepholeLSTMCell(hidden_size, hidden_size)\n",
    "        self.fc = nn.Linear(hidden_size, output_size)\n",
    "        \n",
    "        self.input_size = input_size\n",
    "        self.hidden_size = hidden_size\n",
    "        self.output_size = output_size\n",
    "        \n",
    "    def forward(self, x, states):\n",
    "        output = x.new_empty(x.size(0), x.size(1), self.output_size)\n",
    "        hc1, hc2, hc3 = ((states[0][i], states[1][i]) for i in range(states[0].size(0)))\n",
    "        for i, seq_batch in enumerate(x.transpose(0, 1)):\n",
    "            hc1 = self.lstm0(seq_batch, hc1)\n",
    "            hc2 = self.lstm1(F.dropout(hc1[0], p=0, training=self.training), hc2)\n",
    "            hc3 = self.lstm2(F.dropout(hc2[0], p=0, training=self.training), hc3)\n",
    "            output[:, i, :] = self.fc(F.dropout(hc3[0], p=0, training=self.training))\n",
    "        new_states = (torch.cat((hc1[0], hc2[0], hc3[0])), torch.cat((hc1[1], hc2[1], hc3[1])))\n",
    "        return output, new_states\n",
    "    \n",
    "########################################################################################################################\n",
    "\n",
    "class PeepholeLoopTorch(nn.Module):\n",
    "    def __init__(self, input_size, hidden_size, output_size, dropout):\n",
    "        super().__init__()\n",
    "        self.lstm0 = PeepholeLSTMTorch(input_size, hidden_size, dropout)\n",
    "        self.lstm1 = PeepholeLSTMTorch(hidden_size, hidden_size, dropout)\n",
    "        self.lstm2 = PeepholeLSTMTorch(hidden_size, hidden_size, dropout)\n",
    "        self.fc = nn.Linear(hidden_size, output_size)\n",
    "        \n",
    "        self.input_size = input_size\n",
    "        self.hidden_size = hidden_size\n",
    "        self.output_size = output_size\n",
    "        self.dropout = dropout\n",
    "        \n",
    "    def forward(self, x, states):\n",
    "        hc1, hc2, hc3 = ((states[0][i], states[1][i]) for i in range(states[0].size(0)))\n",
    "        x, hc1 = self.lstm0(x, hc1)\n",
    "        x, hc2 = self.lstm1(x, hc2)\n",
    "        x, hc3 = self.lstm2(x, hc3)\n",
    "        x = self.fc(x)\n",
    "        new_states = (torch.cat((hc1[0], hc2[0], hc3[0])), torch.cat((hc1[1], hc2[1], hc3[1])))\n",
    "        return x, new_states\n",
    "    \n",
    "########################################################################################################################\n",
    "\n",
    "class PeepholeLoopCPP(nn.Module):\n",
    "    def __init__(self, input_size, hidden_size, output_size, dropout):\n",
    "        super().__init__()\n",
    "        self.lstm0 = PeepholeLSTM(input_size, hidden_size, dropout)\n",
    "        self.lstm1 = PeepholeLSTM(hidden_size, hidden_size, dropout)\n",
    "        self.lstm2 = PeepholeLSTM(hidden_size, hidden_size, dropout)\n",
    "        self.fc = nn.Linear(hidden_size, output_size)\n",
    "        \n",
    "        self.input_size = input_size\n",
    "        self.hidden_size = hidden_size\n",
    "        self.output_size = output_size\n",
    "        self.dropout = dropout\n",
    "        \n",
    "    def forward(self, x, states):\n",
    "        hc1, hc2, hc3 = ((states[0][i], states[1][i]) for i in range(states[0].size(0)))\n",
    "        x, hc1 = self.lstm0(x, hc1)\n",
    "        x, hc2 = self.lstm1(x, hc2)\n",
    "        x, hc3 = self.lstm2(x, hc3)\n",
    "        x = self.fc(x)\n",
    "        new_states = (torch.cat((hc1[0], hc2[0], hc3[0])), torch.cat((hc1[1], hc2[1], hc3[1])))\n",
    "        return x, new_states\n",
    "\n",
    "########################################################################################################################\n",
    "\n",
    "class PeepholeLoopCUDA(nn.Module):\n",
    "    def __init__(self, input_size, hidden_size, output_size, dropout):\n",
    "        super().__init__()\n",
    "        self.lstm0 = PeepholeLSTMCUDA(input_size, hidden_size, dropout)\n",
    "        self.lstm1 = PeepholeLSTMCUDA(hidden_size, hidden_size, dropout)\n",
    "        self.lstm2 = PeepholeLSTMCUDA(hidden_size, hidden_size, dropout)\n",
    "        self.fc = nn.Linear(hidden_size, output_size)\n",
    "        \n",
    "        self.input_size = input_size\n",
    "        self.hidden_size = hidden_size\n",
    "        self.output_size = output_size\n",
    "        self.dropout = dropout\n",
    "        \n",
    "    def forward(self, x, states):\n",
    "        hc1, hc2, hc3 = ((states[0][i], states[1][i]) for i in range(states[0].size(0)))\n",
    "        x, hc1 = self.lstm0(x, hc1)\n",
    "        x, hc2 = self.lstm1(x, hc2)\n",
    "        x, hc3 = self.lstm2(x, hc3)\n",
    "        x = self.fc(x)\n",
    "        new_states = (torch.cat((hc1[0], hc2[0], hc3[0])), torch.cat((hc1[1], hc2[1], hc3[1])))\n",
    "        return x, new_states"
   ]
  },
  {
   "cell_type": "markdown",
   "metadata": {},
   "source": [
    "### Instantiation\n",
    "[go to top](#Peephole-LSTM-Test-&-Performance-Comparison-(Speed-&-Memory))"
   ]
  },
  {
   "cell_type": "code",
   "execution_count": 5,
   "metadata": {},
   "outputs": [],
   "source": [
    "device = ('cpu', 'cuda')[1]\n",
    "\n",
    "input_size = 5\n",
    "hidden_size = 20\n",
    "output_size = 10\n",
    "dropout = 0.\n",
    "\n",
    "model_cell_torch = PeepholeTorch(input_size, hidden_size, output_size)\n",
    "model_cell_cpp = PeepholeCPP(input_size, hidden_size, output_size)\n",
    "\n",
    "model_loop_torch = PeepholeLoopTorch(input_size, hidden_size, output_size, dropout)\n",
    "model_loop_cpp = PeepholeLoopCPP(input_size, hidden_size, output_size, dropout)\n",
    "model_loop_cuda = PeepholeLoopCUDA(input_size, hidden_size, output_size, dropout)\n",
    "\n",
    "model_cell_torch.to(device)\n",
    "model_cell_cpp.to(device)\n",
    "model_loop_torch.to(device)\n",
    "model_loop_cpp.to(device)\n",
    "model_loop_cuda.to(device)\n",
    "\n",
    "models = (model_cell_torch, model_cell_cpp, model_loop_torch, model_loop_cpp, model_loop_cuda)"
   ]
  },
  {
   "cell_type": "markdown",
   "metadata": {},
   "source": [
    "### Parameter Synchronization\n",
    "[go to top](#Peephole-LSTM-Test-&-Performance-Comparison-(Speed-&-Memory))"
   ]
  },
  {
   "cell_type": "code",
   "execution_count": 6,
   "metadata": {},
   "outputs": [
    {
     "name": "stdout",
     "output_type": "stream",
     "text": [
      "Synchronized Parameters:\n",
      "\n",
      "\tlstm0.weight_ih\n",
      "\tlstm1.weight_ch\n",
      "\tlstm2.weight_ch\n",
      "\tlstm0.weight_ch\n",
      "\tlstm1.bias\n",
      "\tlstm2.weight_hh\n",
      "\tfc.weight\n",
      "\tfc.bias\n",
      "\tlstm0.bias\n",
      "\tlstm2.weight_ih\n",
      "\tlstm1.weight_ih\n",
      "\tlstm0.weight_hh\n",
      "\tlstm2.bias\n",
      "\tlstm1.weight_hh\n",
      "\n",
      "Exclusive Parameters (Not Synchronized):\n",
      "\n"
     ]
    }
   ],
   "source": [
    "named_parameter_dicts = [\n",
    "    dict(model_cell_torch.named_parameters()),\n",
    "    dict(model_cell_cpp.named_parameters()),\n",
    "    dict(model_loop_torch.named_parameters()),\n",
    "    dict(model_loop_cpp.named_parameters()),\n",
    "    dict(model_loop_cuda.named_parameters()),\n",
    "]\n",
    "\n",
    "print(\"Synchronized Parameters:\\n\")\n",
    "for common_param_name in set.intersection(*(set(npd.keys()) for npd in named_parameter_dicts)):\n",
    "    print(\"\\t{}\".format(common_param_name))\n",
    "    for i in range(1, len(named_parameter_dicts)):\n",
    "        if named_parameter_dicts[i][common_param_name].size() == named_parameter_dicts[0][common_param_name].size():\n",
    "            named_parameter_dicts[i][common_param_name].data = named_parameter_dicts[0][common_param_name].data\n",
    "        else:\n",
    "            raise RuntimeError(\"Size mismatch\\n0:{}\\n{i}:{}\".format(named_parameter_dicts[0][common_param_name].size(),\n",
    "                                                                    named_parameter_dicts[i][common_param_name].size()))\n",
    "print()\n",
    "print(\"Exclusive Parameters (Not Synchronized):\\n\")\n",
    "for exclusive_param_name in set.union(*(set(npd.keys()) for npd in named_parameter_dicts)) - set.intersection(*(set(npd.keys()) for npd in named_parameter_dicts)):\n",
    "    print(\"\\t{}\".format(exclusive_param_name))"
   ]
  },
  {
   "cell_type": "markdown",
   "metadata": {},
   "source": [
    "---"
   ]
  },
  {
   "cell_type": "markdown",
   "metadata": {},
   "source": [
    "## Creating a fake dataset\n",
    "[go to top](#Peephole-LSTM-Test-&-Performance-Comparison-(Speed-&-Memory))"
   ]
  },
  {
   "cell_type": "code",
   "execution_count": 7,
   "metadata": {},
   "outputs": [],
   "source": [
    "def create_fake_loader(dataset_size, sequence_length, batch_size, drop_last=True):\n",
    "    fake_inputs = torch.randn(dataset_size, sequence_length, input_size)\n",
    "    fake_targets = torch.randint(high=output_size, size=(dataset_size, sequence_length), dtype=torch.int64)\n",
    "\n",
    "    fake_dataset = TensorDataset(fake_inputs, fake_targets)\n",
    "\n",
    "    fake_loader = DataLoader(fake_dataset, batch_size=batch_size, drop_last=drop_last)\n",
    "    \n",
    "    return fake_loader"
   ]
  },
  {
   "cell_type": "code",
   "execution_count": 8,
   "metadata": {},
   "outputs": [
    {
     "name": "stdout",
     "output_type": "stream",
     "text": [
      "torch.Size([32, 20, 5]) torch.Size([32, 20])\n"
     ]
    }
   ],
   "source": [
    "dataset_size = 1000\n",
    "sequence_length = 20\n",
    "batch_size = 32\n",
    "\n",
    "fake_loader = create_fake_loader(dataset_size, sequence_length, batch_size)\n",
    "print(next(iter(fake_loader))[0].size(), next(iter(fake_loader))[1].size())"
   ]
  },
  {
   "cell_type": "markdown",
   "metadata": {},
   "source": [
    "---"
   ]
  },
  {
   "cell_type": "markdown",
   "metadata": {},
   "source": [
    "## Sanity check: output comparison\n",
    "[go to top](#Peephole-LSTM-Test-&-Performance-Comparison-(Speed-&-Memory))"
   ]
  },
  {
   "cell_type": "markdown",
   "metadata": {},
   "source": [
    "### Forward Outputs\n",
    "[go to top](#Peephole-LSTM-Test-&-Performance-Comparison-(Speed-&-Memory))"
   ]
  },
  {
   "cell_type": "code",
   "execution_count": 9,
   "metadata": {
    "scrolled": false
   },
   "outputs": [
    {
     "name": "stdout",
     "output_type": "stream",
     "text": [
      "model_cell_torch\n",
      "tensor([[[-0.2080,  0.0155, -0.1230,  0.0934,  0.1127,  0.1557, -0.1204],\n",
      "         [-0.2079,  0.0153, -0.1232,  0.0936,  0.1126,  0.1557, -0.1204]],\n",
      "\n",
      "        [[-0.2087,  0.0178, -0.1234,  0.0941,  0.1134,  0.1549, -0.1206],\n",
      "         [-0.2086,  0.0178, -0.1234,  0.0943,  0.1135,  0.1549, -0.1207]],\n",
      "\n",
      "        [[-0.2082,  0.0166, -0.1232,  0.0939,  0.1133,  0.1551, -0.1209],\n",
      "         [-0.2083,  0.0173, -0.1232,  0.0941,  0.1136,  0.1549, -0.1212]],\n",
      "\n",
      "        [[-0.2079,  0.0171, -0.1235,  0.0946,  0.1137,  0.1545, -0.1214],\n",
      "         [-0.2080,  0.0169, -0.1236,  0.0946,  0.1136,  0.1546, -0.1214]]],\n",
      "       device='cuda:0')\n",
      "\n",
      "\n",
      "model_cell_cpp\n",
      "tensor([[[-0.2080,  0.0155, -0.1230,  0.0934,  0.1127,  0.1557, -0.1204],\n",
      "         [-0.2079,  0.0153, -0.1232,  0.0936,  0.1126,  0.1557, -0.1204]],\n",
      "\n",
      "        [[-0.2087,  0.0178, -0.1234,  0.0941,  0.1134,  0.1549, -0.1206],\n",
      "         [-0.2086,  0.0178, -0.1234,  0.0943,  0.1135,  0.1549, -0.1207]],\n",
      "\n",
      "        [[-0.2082,  0.0166, -0.1232,  0.0939,  0.1133,  0.1551, -0.1209],\n",
      "         [-0.2083,  0.0173, -0.1232,  0.0941,  0.1136,  0.1549, -0.1212]],\n",
      "\n",
      "        [[-0.2079,  0.0171, -0.1235,  0.0946,  0.1137,  0.1545, -0.1214],\n",
      "         [-0.2080,  0.0169, -0.1236,  0.0946,  0.1136,  0.1546, -0.1214]]],\n",
      "       device='cuda:0')\n",
      "\n",
      "\n",
      "model_loop_torch\n",
      "tensor([[[-0.2080,  0.0155, -0.1230,  0.0934,  0.1127,  0.1557, -0.1204],\n",
      "         [-0.2079,  0.0153, -0.1232,  0.0936,  0.1126,  0.1557, -0.1204]],\n",
      "\n",
      "        [[-0.2087,  0.0178, -0.1234,  0.0941,  0.1134,  0.1549, -0.1206],\n",
      "         [-0.2086,  0.0178, -0.1234,  0.0943,  0.1135,  0.1549, -0.1207]],\n",
      "\n",
      "        [[-0.2082,  0.0166, -0.1232,  0.0939,  0.1133,  0.1551, -0.1209],\n",
      "         [-0.2083,  0.0173, -0.1232,  0.0941,  0.1136,  0.1549, -0.1212]],\n",
      "\n",
      "        [[-0.2079,  0.0171, -0.1235,  0.0946,  0.1137,  0.1545, -0.1214],\n",
      "         [-0.2080,  0.0169, -0.1236,  0.0946,  0.1136,  0.1546, -0.1214]]],\n",
      "       device='cuda:0')\n",
      "\n",
      "\n",
      "model_loop_cpp\n",
      "tensor([[[-0.2080,  0.0155, -0.1230,  0.0934,  0.1127,  0.1557, -0.1204],\n",
      "         [-0.2079,  0.0153, -0.1232,  0.0936,  0.1126,  0.1557, -0.1204]],\n",
      "\n",
      "        [[-0.2087,  0.0178, -0.1234,  0.0941,  0.1134,  0.1549, -0.1206],\n",
      "         [-0.2086,  0.0178, -0.1234,  0.0943,  0.1135,  0.1549, -0.1207]],\n",
      "\n",
      "        [[-0.2082,  0.0166, -0.1232,  0.0939,  0.1133,  0.1551, -0.1209],\n",
      "         [-0.2083,  0.0173, -0.1232,  0.0941,  0.1136,  0.1549, -0.1212]],\n",
      "\n",
      "        [[-0.2079,  0.0171, -0.1235,  0.0946,  0.1137,  0.1545, -0.1214],\n",
      "         [-0.2080,  0.0169, -0.1236,  0.0946,  0.1136,  0.1546, -0.1214]]],\n",
      "       device='cuda:0')\n",
      "\n",
      "\n",
      "model_loop_cuda\n",
      "tensor([[[-0.2080,  0.0155, -0.1230,  0.0934,  0.1127,  0.1557, -0.1204],\n",
      "         [-0.2079,  0.0153, -0.1232,  0.0936,  0.1126,  0.1557, -0.1204]],\n",
      "\n",
      "        [[-0.2087,  0.0178, -0.1234,  0.0941,  0.1134,  0.1549, -0.1206],\n",
      "         [-0.2086,  0.0178, -0.1234,  0.0943,  0.1135,  0.1549, -0.1207]],\n",
      "\n",
      "        [[-0.2082,  0.0166, -0.1232,  0.0939,  0.1133,  0.1551, -0.1209],\n",
      "         [-0.2083,  0.0173, -0.1232,  0.0941,  0.1136,  0.1549, -0.1212]],\n",
      "\n",
      "        [[-0.2079,  0.0171, -0.1235,  0.0946,  0.1137,  0.1545, -0.1214],\n",
      "         [-0.2080,  0.0169, -0.1236,  0.0946,  0.1136,  0.1546, -0.1214]]],\n",
      "       device='cuda:0')\n",
      "\n",
      "\n"
     ]
    }
   ],
   "source": [
    "hidden = (torch.zeros(3, batch_size, hidden_size, device=device), torch.zeros(3, batch_size, hidden_size, device=device))\n",
    "\n",
    "inputs = next(iter(fake_loader))[0].to(device)\n",
    "\n",
    "for model in models:\n",
    "#     model.train()\n",
    "    model.eval()\n",
    "\n",
    "with torch.no_grad():\n",
    "    print(\"model_cell_torch\")\n",
    "    print(model_cell_torch(inputs, hidden)[0][:4, -2:, :7])\n",
    "    print(\"\\n\")\n",
    "    print(\"model_cell_cpp\")\n",
    "    print(model_cell_cpp(inputs, hidden)[0][:4, -2:, :7])\n",
    "    print(\"\\n\")\n",
    "    print(\"model_loop_torch\")\n",
    "    print(model_loop_torch(inputs, hidden)[0][:4, -2:, :7])\n",
    "    print(\"\\n\")\n",
    "    print(\"model_loop_cpp\")\n",
    "    print(model_loop_cpp(inputs, hidden)[0][:4, -2:, :7])\n",
    "    print(\"\\n\")\n",
    "    print(\"model_loop_cuda\")\n",
    "    print(model_loop_cuda(inputs, hidden)[0][:4, -2:, :7])\n",
    "    print(\"\\n\")"
   ]
  },
  {
   "cell_type": "markdown",
   "metadata": {},
   "source": [
    "### Backward Gradients\n",
    "[go to top](#Peephole-LSTM-Test-&-Performance-Comparison-(Speed-&-Memory))"
   ]
  },
  {
   "cell_type": "code",
   "execution_count": 10,
   "metadata": {
    "scrolled": false
   },
   "outputs": [
    {
     "name": "stdout",
     "output_type": "stream",
     "text": [
      "model_cell_torch\n",
      "tensor([[-6.5925e-07, -9.7495e-08,  1.0557e-06, -3.0389e-07, -7.3990e-08],\n",
      "        [ 2.3531e-06, -3.5603e-07,  3.0203e-07,  9.2253e-07, -3.9745e-07],\n",
      "        [-1.2207e-06, -9.7242e-08,  1.6832e-07, -8.6087e-07, -5.3546e-07],\n",
      "        [ 5.1758e-09, -7.3096e-07,  1.8759e-07,  1.4595e-06,  2.7070e-07]],\n",
      "       device='cuda:0')\n",
      "\n",
      "\n",
      "model_cell_cpp\n",
      "tensor([[-6.5925e-07, -9.7496e-08,  1.0557e-06, -3.0389e-07, -7.3990e-08],\n",
      "        [ 2.3531e-06, -3.5603e-07,  3.0203e-07,  9.2253e-07, -3.9745e-07],\n",
      "        [-1.2207e-06, -9.7242e-08,  1.6832e-07, -8.6087e-07, -5.3546e-07],\n",
      "        [ 5.1756e-09, -7.3096e-07,  1.8759e-07,  1.4595e-06,  2.7070e-07]],\n",
      "       device='cuda:0')\n",
      "\n",
      "\n",
      "model_loop_torch\n",
      "tensor([[-6.5925e-07, -9.7495e-08,  1.0557e-06, -3.0389e-07, -7.3990e-08],\n",
      "        [ 2.3531e-06, -3.5603e-07,  3.0203e-07,  9.2253e-07, -3.9746e-07],\n",
      "        [-1.2207e-06, -9.7242e-08,  1.6832e-07, -8.6087e-07, -5.3546e-07],\n",
      "        [ 5.1757e-09, -7.3096e-07,  1.8759e-07,  1.4595e-06,  2.7070e-07]],\n",
      "       device='cuda:0')\n",
      "\n",
      "\n",
      "model_loop_cpp\n",
      "tensor([[-6.5925e-07, -9.7495e-08,  1.0557e-06, -3.0389e-07, -7.3990e-08],\n",
      "        [ 2.3531e-06, -3.5603e-07,  3.0203e-07,  9.2253e-07, -3.9745e-07],\n",
      "        [-1.2207e-06, -9.7242e-08,  1.6832e-07, -8.6087e-07, -5.3546e-07],\n",
      "        [ 5.1754e-09, -7.3096e-07,  1.8759e-07,  1.4595e-06,  2.7070e-07]],\n",
      "       device='cuda:0')\n",
      "\n",
      "\n",
      "model_loop_cuda\n",
      "tensor([[-6.5925e-07, -9.7496e-08,  1.0557e-06, -3.0389e-07, -7.3990e-08],\n",
      "        [ 2.3531e-06, -3.5603e-07,  3.0203e-07,  9.2253e-07, -3.9745e-07],\n",
      "        [-1.2207e-06, -9.7242e-08,  1.6832e-07, -8.6087e-07, -5.3546e-07],\n",
      "        [ 5.1756e-09, -7.3096e-07,  1.8759e-07,  1.4595e-06,  2.7070e-07]],\n",
      "       device='cuda:0')\n",
      "\n",
      "\n"
     ]
    }
   ],
   "source": [
    "criterion = nn.CrossEntropyLoss()\n",
    "\n",
    "hidden = (torch.zeros(3, batch_size, hidden_size, device=device), torch.zeros(3, batch_size, hidden_size, device=device))\n",
    "\n",
    "inputs, targets = next(iter(fake_loader))\n",
    "inputs = inputs.to(device)\n",
    "targets = targets.to(device)\n",
    "\n",
    "for model in models:\n",
    "    model.train()\n",
    "#     model.eval()\n",
    "    model.zero_grad()\n",
    "    criterion(model(inputs, hidden)[0].flatten(0, 1), targets.flatten(0, 1)).backward()\n",
    "\n",
    "print(\"model_cell_torch\")\n",
    "print(model_cell_torch.lstm0.weight_ih.grad[:4, :7])\n",
    "print(\"\\n\")\n",
    "print(\"model_cell_cpp\")\n",
    "print(model_cell_cpp.lstm0.weight_ih.grad[:4, :7])\n",
    "print(\"\\n\")\n",
    "print(\"model_loop_torch\")\n",
    "print(model_loop_torch.lstm0.weight_ih.grad[:4, :7])\n",
    "print(\"\\n\")\n",
    "print(\"model_loop_cpp\")\n",
    "print(model_loop_cpp.lstm0.weight_ih.grad[:4, :7])\n",
    "print(\"\\n\")\n",
    "print(\"model_loop_cuda\")\n",
    "print(model_loop_cuda.lstm0.weight_ih.grad[:4, :7])\n",
    "print(\"\\n\")"
   ]
  },
  {
   "cell_type": "markdown",
   "metadata": {},
   "source": [
    "---"
   ]
  },
  {
   "cell_type": "markdown",
   "metadata": {},
   "source": [
    "## Forward time comparison\n",
    "[go to top](#Peephole-LSTM-Test-&-Performance-Comparison-(Speed-&-Memory))"
   ]
  },
  {
   "cell_type": "code",
   "execution_count": 20,
   "metadata": {},
   "outputs": [],
   "source": [
    "dataset_size = 1000\n",
    "sequence_length = 20\n",
    "batch_size = 32\n",
    "\n",
    "fake_loader = create_fake_loader(dataset_size, sequence_length, batch_size, drop_last=True)\n",
    "\n",
    "hidden = (torch.zeros(3, batch_size, hidden_size, device=device), torch.zeros(3, batch_size, hidden_size, device=device))"
   ]
  },
  {
   "cell_type": "code",
   "execution_count": 22,
   "metadata": {},
   "outputs": [
    {
     "name": "stdout",
     "output_type": "stream",
     "text": [
      "2.93 s ± 94.6 ms per loop (mean ± std. dev. of 10 runs, 1 loop each)\n"
     ]
    }
   ],
   "source": [
    "%%timeit -n 1 -r 10\n",
    "with torch.no_grad():\n",
    "    for inputs, _ in fake_loader:\n",
    "        inputs = inputs.to(device)\n",
    "        model_cell_torch(inputs, hidden)"
   ]
  },
  {
   "cell_type": "code",
   "execution_count": 23,
   "metadata": {},
   "outputs": [
    {
     "name": "stdout",
     "output_type": "stream",
     "text": [
      "2.55 s ± 94.8 ms per loop (mean ± std. dev. of 10 runs, 1 loop each)\n"
     ]
    }
   ],
   "source": [
    "%%timeit -n 1 -r 10\n",
    "with torch.no_grad():\n",
    "    for inputs, _ in fake_loader:\n",
    "        inputs = inputs.to(device)\n",
    "        model_cell_cpp(inputs, hidden)"
   ]
  },
  {
   "cell_type": "code",
   "execution_count": 24,
   "metadata": {},
   "outputs": [
    {
     "name": "stdout",
     "output_type": "stream",
     "text": [
      "2.47 s ± 84.1 ms per loop (mean ± std. dev. of 10 runs, 1 loop each)\n"
     ]
    }
   ],
   "source": [
    "%%timeit -n 1 -r 10\n",
    "with torch.no_grad():\n",
    "    for inputs, _ in fake_loader:\n",
    "        inputs = inputs.to(device)\n",
    "        model_loop_torch(inputs, hidden)"
   ]
  },
  {
   "cell_type": "code",
   "execution_count": 25,
   "metadata": {},
   "outputs": [
    {
     "name": "stdout",
     "output_type": "stream",
     "text": [
      "2.37 s ± 73.1 ms per loop (mean ± std. dev. of 10 runs, 1 loop each)\n"
     ]
    }
   ],
   "source": [
    "%%timeit -n 1 -r 10\n",
    "with torch.no_grad():\n",
    "    for inputs, _ in fake_loader:\n",
    "        inputs = inputs.to(device)\n",
    "        model_loop_cpp(inputs, hidden)"
   ]
  },
  {
   "cell_type": "code",
   "execution_count": 26,
   "metadata": {},
   "outputs": [
    {
     "name": "stdout",
     "output_type": "stream",
     "text": [
      "534 ms ± 36.2 ms per loop (mean ± std. dev. of 10 runs, 1 loop each)\n"
     ]
    }
   ],
   "source": [
    "%%timeit -n 1 -r 10\n",
    "with torch.no_grad():\n",
    "    for inputs, _ in fake_loader:\n",
    "        inputs = inputs.to(device)\n",
    "        model_loop_cuda(inputs, hidden)"
   ]
  },
  {
   "cell_type": "markdown",
   "metadata": {},
   "source": [
    "---"
   ]
  },
  {
   "cell_type": "markdown",
   "metadata": {},
   "source": [
    "## +Backward time comparison\n",
    "[go to top](#Peephole-LSTM-Test-&-Performance-Comparison-(Speed-&-Memory))"
   ]
  },
  {
   "cell_type": "code",
   "execution_count": 27,
   "metadata": {},
   "outputs": [],
   "source": [
    "criterion = nn.CrossEntropyLoss()"
   ]
  },
  {
   "cell_type": "code",
   "execution_count": 29,
   "metadata": {},
   "outputs": [
    {
     "name": "stdout",
     "output_type": "stream",
     "text": [
      "8.53 s ± 143 ms per loop (mean ± std. dev. of 10 runs, 1 loop each)\n"
     ]
    }
   ],
   "source": [
    "%%timeit -r 10\n",
    "for inputs, targets in fake_loader:\n",
    "    inputs = inputs.to(device)\n",
    "    targets = targets.to(device)\n",
    "    model_cell_torch.zero_grad()\n",
    "    criterion(model_cell_torch(inputs, hidden)[0].flatten(0, 1), targets.flatten(0, 1)).backward()"
   ]
  },
  {
   "cell_type": "code",
   "execution_count": 31,
   "metadata": {},
   "outputs": [
    {
     "name": "stdout",
     "output_type": "stream",
     "text": [
      "8.06 s ± 507 ms per loop (mean ± std. dev. of 10 runs, 1 loop each)\n"
     ]
    }
   ],
   "source": [
    "%%timeit -r 10\n",
    "for inputs, targets in fake_loader:\n",
    "    inputs = inputs.to(device)\n",
    "    targets = targets.to(device)\n",
    "    model_cell_cpp.zero_grad()\n",
    "    criterion(model_cell_cpp(inputs, hidden)[0].flatten(0, 1), targets.flatten(0, 1)).backward()"
   ]
  },
  {
   "cell_type": "code",
   "execution_count": 32,
   "metadata": {},
   "outputs": [
    {
     "name": "stdout",
     "output_type": "stream",
     "text": [
      "8.03 s ± 236 ms per loop (mean ± std. dev. of 10 runs, 1 loop each)\n"
     ]
    }
   ],
   "source": [
    "%%timeit -r 10\n",
    "for inputs, targets in fake_loader:\n",
    "    inputs = inputs.to(device)\n",
    "    targets = targets.to(device)\n",
    "    model_loop_torch.zero_grad()\n",
    "    criterion(model_loop_torch(inputs, hidden)[0].flatten(0, 1), targets.flatten(0, 1)).backward()"
   ]
  },
  {
   "cell_type": "code",
   "execution_count": 33,
   "metadata": {},
   "outputs": [
    {
     "name": "stdout",
     "output_type": "stream",
     "text": [
      "3.85 s ± 54.1 ms per loop (mean ± std. dev. of 10 runs, 1 loop each)\n"
     ]
    }
   ],
   "source": [
    "%%timeit -r 10\n",
    "for inputs, targets in fake_loader:\n",
    "    inputs = inputs.to(device)\n",
    "    targets = targets.to(device)\n",
    "    model_loop_cpp.zero_grad()\n",
    "    criterion(model_loop_cpp(inputs, hidden)[0].flatten(0, 1), targets.flatten(0, 1)).backward()"
   ]
  },
  {
   "cell_type": "code",
   "execution_count": 34,
   "metadata": {},
   "outputs": [
    {
     "name": "stdout",
     "output_type": "stream",
     "text": [
      "989 ms ± 21.1 ms per loop (mean ± std. dev. of 10 runs, 1 loop each)\n"
     ]
    }
   ],
   "source": [
    "%%timeit -r 10\n",
    "for inputs, targets in fake_loader:\n",
    "    inputs = inputs.to(device)\n",
    "    targets = targets.to(device)\n",
    "    model_loop_cuda.zero_grad()\n",
    "    criterion(model_loop_cuda(inputs, hidden)[0].flatten(0, 1), targets.flatten(0, 1)).backward()"
   ]
  },
  {
   "cell_type": "markdown",
   "metadata": {},
   "source": [
    "---"
   ]
  }
 ],
 "metadata": {
  "kernelspec": {
   "display_name": "Python 3",
   "language": "python",
   "name": "python3"
  },
  "language_info": {
   "codemirror_mode": {
    "name": "ipython",
    "version": 3
   },
   "file_extension": ".py",
   "mimetype": "text/x-python",
   "name": "python",
   "nbconvert_exporter": "python",
   "pygments_lexer": "ipython3",
   "version": "3.6.7"
  }
 },
 "nbformat": 4,
 "nbformat_minor": 2
}
